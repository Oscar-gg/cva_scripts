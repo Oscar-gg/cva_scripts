{
  "nbformat": 4,
  "nbformat_minor": 0,
  "metadata": {
    "colab": {
      "provenance": [],
      "collapsed_sections": [
        "Ktd3oVPWFPL1"
      ]
    },
    "kernelspec": {
      "name": "python3",
      "display_name": "Python 3"
    },
    "language_info": {
      "name": "python"
    }
  },
  "cells": [
    {
      "cell_type": "markdown",
      "source": [
        "# **Código**"
      ],
      "metadata": {
        "id": "rYzY3bypfqVl"
      }
    },
    {
      "cell_type": "code",
      "source": [
        "# Instalar pygifsicle, para reducir tamaño de gifs\n",
        "!pip install pygifsicle\n",
        "!sudo apt-get install gifsicle"
      ],
      "metadata": {
        "id": "m83qFCVADgfm"
      },
      "execution_count": null,
      "outputs": []
    },
    {
      "cell_type": "code",
      "execution_count": 127,
      "metadata": {
        "id": "eHO-iECSvSZi"
      },
      "outputs": [],
      "source": [
        "from PIL import Image\n",
        "import time\n",
        "import os\n",
        "import pygifsicle\n",
        "import shutil # Mover archivos generados, al final"
      ]
    },
    {
      "cell_type": "code",
      "source": [
        "# @Oscar-gg\n",
        "\n",
        "# Class to perform image reduction / compressing to reduce file size,\n",
        "# taking into account image type and options\n",
        "# Supports: .png, .jpg\n",
        "\n",
        "class ImageReduction:\n",
        "\n",
        "  def __init__(self, threshold_kb = 500, min_quality=60,\n",
        "               extensions=[\".png\", \".jpg\",\".jpeg\", \".gif\"],\n",
        "               max_img_width_px=1000, max_img_height_px=1000, resize=False, reduce_all_valid_files=False,\n",
        "               output_reduce_prefix=\"IR_\", output_resize_prefix = \"R_\", best_prefix=\"B_\", max_resize=0.6,\n",
        "               colors_=32, scale_ratio='0.5', lossiness_factor='80'):\n",
        "\n",
        "    self.threshold_kb = threshold_kb # Reducir solo imágenes que tengan peso mayor\n",
        "\n",
        "    # La menor calidad a intentar (se usan calidades mayores primero), para jpg\n",
        "    self.min_quality = min_quality\n",
        "\n",
        "    # Solo hay implementación para .png y .jpg. Si se agregan más solo apareceran\n",
        "    # en print_files_above_threshold(). Quitar .png o .jpg para ignorar archivos\n",
        "    self.extensions = extensions\n",
        "\n",
        "    # Si es verdadero, al reducir una imagen se hace resize().\n",
        "    self.resize = resize\n",
        "\n",
        "    # Si es verdadero, va a intentar reducir todas las imágenes,\n",
        "    # incluso las que estén por debajo del threshold.\n",
        "    # Muy poco recomendable ponerlo en true;\n",
        "    self.reduce_all_valid_files = reduce_all_valid_files\n",
        "\n",
        "    # Limites de imagen. Se usan cuando resize esta activo\n",
        "    self.max_img_width_px = max_img_width_px\n",
        "    self.max_img_height_px = max_img_height_px\n",
        "\n",
        "    self.output_reduce_prefix = output_reduce_prefix\n",
        "    self.output_resize_prefix = output_resize_prefix\n",
        "    self.best_prefix = best_prefix\n",
        "\n",
        "    # Evitar sobreescribir imágenes originales\n",
        "    if len(self.output_reduce_prefix) == 0:\n",
        "      self.output_reduce_prefix = \"IR_\"\n",
        "\n",
        "    if len(self.output_resize_prefix) == 0:\n",
        "      self.output_resize_prefix = \"R_\"\n",
        "\n",
        "    if len(self.best_prefix) == 0:\n",
        "      self.best_prefix = \"B_\"\n",
        "\n",
        "    # Solo se usa con resize_directory\n",
        "    self.max_resize = max_resize\n",
        "\n",
        "    # Opciones para gifs\n",
        "    self.colors_= colors_\n",
        "    self.scale_ratio = scale_ratio\n",
        "    self.lossiness_factor = lossiness_factor\n",
        "\n",
        "\n",
        "  def reduce_directory(self, path_to_directory):\n",
        "    files_to_reduce = []\n",
        "\n",
        "    if self.reduce_all_valid_files:\n",
        "      files_to_reduce = self.all_valid_files(path_to_directory)\n",
        "    else:\n",
        "      files_to_reduce = self.files_above_threshold(path_to_directory)\n",
        "\n",
        "    for size, file_path in files_to_reduce:\n",
        "      self.reduce_image(file_path)\n",
        "\n",
        "\n",
        "  def resize_limits_directory(self, path_to_directory, all=False):\n",
        "    \"\"\"Only resizes valid images to max width or max height specified.\"\"\"\n",
        "    files_to_resize=[]\n",
        "    if all:\n",
        "      files_to_resize = self.all_valid_files(path_to_directory)\n",
        "    else:\n",
        "      files_to_resize = self.files_above_threshold(path_to_directory)\n",
        "\n",
        "    for size, file_path in files_to_resize:\n",
        "      image = Image.open(file_path)\n",
        "      if self.over_dimensions(image):\n",
        "        output_path = self.insert_prefix(self.output_resize_prefix, file_path)\n",
        "\n",
        "        if not os.path.exists(output_path):\n",
        "            resized = self.reduce_dimensions(image)\n",
        "            resized.save(output_path, optimize=True)\n",
        "            self.display_result(output_path, file_path)\n",
        "        else:\n",
        "            self.display_result(\"exists\", output_path)\n",
        "\n",
        "      else:\n",
        "        print(f\"Info: image is within specified limit dimensions: {file_path}\")\n",
        "\n",
        "\n",
        "  def resize_directory(self, path_to_directory):\n",
        "    \"\"\"Attempts to resize all valid files that are above threshold size.\"\"\"\n",
        "    files_to_resize = []\n",
        "    files_to_resize = self.files_above_threshold(path_to_directory)\n",
        "\n",
        "    for size, file_path in files_to_resize:\n",
        "      self.resize_image(file_path)\n",
        "\n",
        "\n",
        "  def resize_image(self, path_to_file):\n",
        "    \"\"\"Resize several times until being below threshold or reaching the limit.\"\"\"\n",
        "    if not self.valid_file(path_to_file):\n",
        "      print(f\"Warning: file not valid {path_to_file}.\")\n",
        "      return\n",
        "\n",
        "    output, input = \"\", \"\"\n",
        "\n",
        "    if self.file_extension(path_to_file) in [\".jpg\", \".jpeg\", \".png\"]:\n",
        "      output, input= self.resize_png_jpg(path_to_file)\n",
        "\n",
        "    if self.file_extension(path_to_file) in [\".gif\"]:\n",
        "      output, input = self.compress_gif(path_to_file)\n",
        "\n",
        "    self.display_result(output, input)\n",
        "\n",
        "  def resize_png_jpg(self, path_to_file):\n",
        "    if self.file_extension(path_to_file) not in [\".jpg\", \".jpeg\", \".png\"]:\n",
        "      print(f\"Warning: invalid path for resize_png_jpg, {path_to_file}. Method will skip\")\n",
        "      return [path_to_file, path_to_file]\n",
        "\n",
        "    image = Image.open(path_to_file)\n",
        "    output_path = self.insert_prefix(self.output_resize_prefix, path_to_file)\n",
        "\n",
        "    # Avoid processing an image again.\n",
        "    if os.path.exists(output_path):\n",
        "        return [\"exists\", output_path]\n",
        "\n",
        "    initial_size = 1\n",
        "    current_size = initial_size\n",
        "    resize_interval = (initial_size - self.max_resize) / 5 # Check 5 intervals\n",
        "\n",
        "    image.save(output_path, optimize=True) # Save original image\n",
        "\n",
        "    is_png = self.file_extension(path_to_file) == \".png\"\n",
        "\n",
        "    while self.get_file_size_kb(output_path) > self.threshold_kb and current_size >= self.max_resize and resize_interval > 0:\n",
        "      start_total = time.time()\n",
        "      current_size -= resize_interval\n",
        "      resize_iteration = image.copy()\n",
        "      resize_iteration = self.direct_resize(resize_iteration, current_size)\n",
        "\n",
        "      if is_png:\n",
        "        resize_iteration.save(output_path, optimize=True)\n",
        "      else:\n",
        "        resize_iteration.save(output_path, quality=80, optimize=True)\n",
        "\n",
        "      end_time = time.time()\n",
        "\n",
        "      difference_time = end_time - start_total\n",
        "      if (difference_time) > 2:\n",
        "        print(f\"Warning: resize iteration took too long ({difference_time} s) for {path_to_file}. Trying only the last iteration.\")\n",
        "        resize_iteration = image.copy()\n",
        "        resize_iteration = self.direct_resize(resize_iteration, self.max_resize)\n",
        "        if is_png:\n",
        "          resize_iteration.save(output_path, optimize=True)\n",
        "        else:\n",
        "          resize_iteration.save(output_path, quality=80, optimize=True)\n",
        "        break\n",
        "\n",
        "    return [output_path, path_to_file]\n",
        "\n",
        "\n",
        "  def reduce_image(self, path_to_file):\n",
        "    if not self.valid_file(path_to_file):\n",
        "      print(f\"Warning: file not valid {path_to_file}.\")\n",
        "      return\n",
        "\n",
        "    output, input = \"\", \"\"\n",
        "\n",
        "    if self.file_extension(path_to_file) in [\".jpg\", \".jpeg\"]:\n",
        "      output, input= self.reduce_jpg(path_to_file)\n",
        "    elif self.file_extension(path_to_file) in [\".png\"]:\n",
        "      output, input = self.reduce_png(path_to_file)\n",
        "    elif self.file_extension(path_to_file) in [\".gif\"]:\n",
        "      output, input = self.compress_gif(path_to_file)\n",
        "\n",
        "    self.display_result(output, input)\n",
        "\n",
        "\n",
        "  def display_result(self, output, input):\n",
        "    if output == \"\" or input == \"\":\n",
        "      print(f\"Info: file not processed {input}.\")\n",
        "    elif output == \"exists\":\n",
        "      print(f\"Info: skipping, file already exists {input}.\")\n",
        "    else:\n",
        "      out_size = self.get_file_size_kb(output)\n",
        "      in_size = self.get_file_size_kb(input)\n",
        "\n",
        "      percentage = (out_size / in_size) * 100\n",
        "      print(f\"[{round(100 - percentage, 2)}% reduction | {in_size} kb -> {out_size} kb: {output}]\")\n",
        "\n",
        "      self.was_resized(output, input)\n",
        "\n",
        "      if percentage == 100:\n",
        "        print(f\"Warning: file size unchanged for {output}.\")\n",
        "      if percentage > 100:\n",
        "        print(f\"WARNING: file size INCREASED for {output}.\")\n",
        "      if percentage < 100 and out_size > self.threshold_kb:\n",
        "        print(f\"Warning: file size reduced but image remains above theshold for {output}.\")\n",
        "\n",
        "  def was_resized(self, output_path, input_file):\n",
        "    if os.path.basename(output_path).startswith(self.output_resize_prefix):\n",
        "        input_image = Image.open(input_file)\n",
        "        output_image = Image.open(output_path)\n",
        "        print(f\"Output: {output_image.width} w {output_image.height} h, Input: {input_image.width} w {input_image.height} h\")\n",
        "\n",
        "\n",
        "  def reduce_png(self, path_to_file):\n",
        "    if self.file_extension(path_to_file) not in [\".png\"]:\n",
        "      print(f\"Warning: invalid path for reduce_png, {path_to_file}. Method will skip\")\n",
        "      return [path_to_file, path_to_file]\n",
        "\n",
        "    image = Image.open(path_to_file)\n",
        "\n",
        "    output_path = self.insert_prefix(self.output_reduce_prefix, path_to_file)\n",
        "\n",
        "    if os.path.exists(output_path):\n",
        "        return [\"exists\", output_path]\n",
        "\n",
        "    reduced_png = image.copy()\n",
        "\n",
        "    if self.resize:\n",
        "      reduced_png = self.reduce_dimensions(reduced_png)\n",
        "\n",
        "    reduced_png = reduced_png.quantize(colors=256) # https://pillow.readthedocs.io/en/stable/reference/Image.html#PIL.Image.Image.quantize\n",
        "\n",
        "    # PNG saving options: https://pillow.readthedocs.io/en/stable/handbook/image-file-formats.html#png\n",
        "    reduced_png.save(output_path, optimize=True)\n",
        "    return [output_path, path_to_file]\n",
        "\n",
        "\n",
        "  def reduce_jpg(self, path_to_file):\n",
        "    if self.file_extension(path_to_file) not in [\".jpg\", \".jpeg\"]:\n",
        "      print(f\"Warning: invalid path for reduce_jpg, {path_to_file}. Method will skip\")\n",
        "      return [path_to_file, path_to_file]\n",
        "\n",
        "    image = Image.open(path_to_file)\n",
        "\n",
        "    reduced_jpg = image.copy()\n",
        "\n",
        "    if self.resize:\n",
        "      reduced_jpg = self.reduce_dimensions(reduced_jpg)\n",
        "\n",
        "    # JPEG saving options: https://pillow.readthedocs.io/en/stable/handbook/image-file-formats.html#jpeg-saving\n",
        "\n",
        "    output_path = self.insert_prefix(self.output_reduce_prefix, path_to_file)\n",
        "\n",
        "    if os.path.exists(output_path):\n",
        "        return [\"exists\", output_path]\n",
        "\n",
        "    reduced_jpg.save(output_path)\n",
        "\n",
        "    initial_quality = 90\n",
        "    current_quality = initial_quality\n",
        "    quality_interval = int((initial_quality - self.min_quality) / 5) # Check 5 intervals\n",
        "\n",
        "    while self.get_file_size_kb(output_path) > self.threshold_kb and current_quality >= self.min_quality and quality_interval > 0:\n",
        "      reduce_iteration = reduced_jpg.copy()\n",
        "\n",
        "      reduce_iteration.save(output_path, optimize=True, quality=current_quality)\n",
        "      current_quality -= quality_interval\n",
        "\n",
        "    return [output_path, path_to_file]\n",
        "\n",
        "\n",
        "  def reduce_dimensions(self, image):\n",
        "    \"\"\"Reduces image to max dimensions. Maintains aspect ratio: considers only max_img_width_px or max_img_height_px.\"\"\"\n",
        "    reduced_dim = image.copy()\n",
        "\n",
        "    try:\n",
        "      if reduced_dim.width > self.max_img_width_px and self.max_img_width_px > 0:\n",
        "        width_reduction = self.max_img_width_px / image.width\n",
        "        return self.direct_resize(reduced_dim, width_reduction)\n",
        "\n",
        "      if reduced_dim.height > self.max_img_height_px and self.max_img_height_px > 0:\n",
        "        height_reduction = self.max_img_height_px / image.height\n",
        "        return self.direct_resize(reduced_dim, height_reduction)\n",
        "\n",
        "    except:\n",
        "      print(\"Error: Some error happened during resizing.\")\n",
        "\n",
        "    print(f\"Warning: reduce_dimensions didn't modify the image. original: width({image.width}), height ({image.height}). Max dimensions: width({self.max_img_width_px}), height ({self.max_img_height_px})\")\n",
        "    return reduced_dim\n",
        "\n",
        "\n",
        "  def compress_gif(self, path_to_file):\n",
        "    scale_factor = f'{self.scale_ratio}x{self.scale_ratio}'\n",
        "\n",
        "    output_path = self.insert_prefix(self.output_reduce_prefix, path_to_file)\n",
        "\n",
        "    options_string = [\"--verbose\", f\"--lossy={self.lossiness_factor}\", f\"--scale={scale_factor}\"]\n",
        "    pygifsicle.gifsicle(\n",
        "      sources=[path_to_file], # or a single_file.gif\n",
        "      destination=output_path, # or just omit it and will use the first source provided.\n",
        "      optimize=True, # Whetever to add the optimize flag of not\n",
        "      colors=self.colors_, # Number of colors to use\n",
        "      options=options_string # Options to use.\n",
        "    )\n",
        "\n",
        "    return [output_path, path_to_file]\n",
        "\n",
        "  def over_dimensions(self, image):\n",
        "    return image.width > self.max_img_width_px or image.height > self.max_img_height_px\n",
        "\n",
        "\n",
        "  def direct_resize(self, image, ratio):\n",
        "    new_width = int(image.width * ratio)\n",
        "    new_height = int(image.height * ratio)\n",
        "    resized_image = image.resize((new_width, new_height))\n",
        "    # See resampling filters: https://pillow.readthedocs.io/en/stable/handbook/concepts.html#PIL.Image.Resampling.LANCZOS\n",
        "    return resized_image\n",
        "\n",
        "\n",
        "  def file_extension(self, path_to_file):\n",
        "    _, ext = os.path.splitext(path_to_file)\n",
        "    return ext\n",
        "\n",
        "\n",
        "  def valid_file(self, path_to_file):\n",
        "    file_ext = self.file_extension(path_to_file)\n",
        "    return file_ext in self.extensions\n",
        "\n",
        "\n",
        "  def files_above_threshold(self, path_to_directory):\n",
        "    return self.all_valid_files(path_to_directory, self.threshold_kb)\n",
        "\n",
        "\n",
        "  def all_valid_files(self, path_to_directory, threshold_kb_=0):\n",
        "    valid_files = []\n",
        "    for root, _, files in os.walk(path_to_directory):\n",
        "      for file in files:\n",
        "        file_path = os.path.join(root, file)\n",
        "\n",
        "        if not self.valid_file(file_path):\n",
        "          continue\n",
        "\n",
        "        size = self.get_file_size_kb(file_path)\n",
        "        if (size >= threshold_kb_):\n",
        "          valid_files.append((size, file_path))\n",
        "\n",
        "    list.sort(valid_files, reverse=True)\n",
        "    return valid_files\n",
        "\n",
        "\n",
        "  def print_files_above_threshold(self, path_to_directory):\n",
        "    files_over_threshold = self.files_above_threshold(path_to_directory)\n",
        "    for file in files_over_threshold:\n",
        "      print(f\"{file[0]} KB: {file[1]}\")\n",
        "\n",
        "\n",
        "  def generated_files(self, path_to_directory):\n",
        "    generated_files = []\n",
        "    for root, _, files in os.walk(path_to_directory):\n",
        "      for file in files:\n",
        "        file_path = os.path.join(root, file)\n",
        "\n",
        "        if not self.valid_file(file_path):\n",
        "          continue\n",
        "\n",
        "        if self.file_was_generated(file):\n",
        "          size = self.get_file_size_kb(file_path)\n",
        "          generated_files.append((size, file_path))\n",
        "\n",
        "    list.sort(generated_files, reverse=True)\n",
        "    return generated_files\n",
        "\n",
        "\n",
        "  def file_was_generated(self, path_to_file):\n",
        "    file_basename = os.path.basename(path_to_file)\n",
        "    return file_basename.startswith(self.output_reduce_prefix) or file_basename.startswith(self.output_resize_prefix) or file_basename.startswith(self.best_prefix)\n",
        "\n",
        "\n",
        "  def insert_prefix(self, prefix, path_to_file):\n",
        "    directory = os.path.dirname(path_to_file)\n",
        "    filename = prefix + os.path.basename(path_to_file)\n",
        "    return os.path.join(directory, filename)\n",
        "\n",
        "\n",
        "  def print_generated_files(self, path_to_directory, only_above_threshold=False):\n",
        "    below_threshold = 0\n",
        "    generated_files = self.generated_files(path_to_directory)\n",
        "\n",
        "    for file in generated_files:\n",
        "      if (file[0] < self.threshold_kb):\n",
        "        below_threshold += 1\n",
        "\n",
        "    if len(generated_files) == 0:\n",
        "      print(\"No generated files found.\")\n",
        "      return\n",
        "\n",
        "    percentage = int((below_threshold / len(generated_files)) * 100)\n",
        "    print(f'{percentage}% of generated files are below threshold')\n",
        "\n",
        "    for file in generated_files:\n",
        "      if only_above_threshold and file[0] < self.threshold_kb:\n",
        "         break\n",
        "      print(f\"[{file[0]} KB]: {file[1]}\")\n",
        "\n",
        "\n",
        "  def get_file_size_kb(self, file_path):\n",
        "    size = os.path.getsize(file_path)\n",
        "    return size // 1024  # bytes a kb\n",
        "\n",
        "  def move_generated(self, directory_path, output_directory, only_basename=False):\n",
        "    generated_files = self.generated_files(directory_path)\n",
        "\n",
        "    destination_directory = os.path.dirname(output_directory)\n",
        "    os.makedirs(destination_directory, exist_ok=True)\n",
        "\n",
        "    for file in generated_files:\n",
        "      destination_path = \"\"\n",
        "\n",
        "      if self.is_contained(output_directory, file[1]):\n",
        "        print(f\"Info: {file[1]} is contained in {output_directory}. Skipping.\")\n",
        "        continue\n",
        "\n",
        "      if only_basename:\n",
        "        destination_path = os.path.join(output_directory, os.path.basename(file[1]))\n",
        "      else:\n",
        "        destination_path = os.path.join(output_directory, file[1])\n",
        "        destination_directory = os.path.dirname(destination_path)\n",
        "\n",
        "        os.makedirs(destination_directory, exist_ok=True)\n",
        "\n",
        "      shutil.move(file[1], destination_path)\n",
        "\n",
        "      print(f\"Info: moved {file} to {destination_path}.\")\n",
        "\n",
        "  def is_contained(self, directory_path, file_path):\n",
        "    directory_path = os.path.abspath(directory_path)\n",
        "    file_path = os.path.abspath(file_path)\n",
        "\n",
        "    return file_path.startswith(directory_path + os.sep)\n",
        "\n",
        "  def check_remaining_files(self, directory_path):\n",
        "    generated_files, original_files = self.generated_and_original(directory_path)\n",
        "    original_set = set()\n",
        "\n",
        "    # Save original basenames of files that are above threshold.\n",
        "    for file in original_files:\n",
        "      if file[0] > self.threshold_kb:\n",
        "        original_set.add(os.path.basename(file[1]))\n",
        "\n",
        "    for file in generated_files:\n",
        "      if file[0] < self.threshold_kb:\n",
        "        original_name = self.trim_prefix(file[1])\n",
        "\n",
        "        if original_name in original_set:\n",
        "          original_set.remove(original_name)\n",
        "\n",
        "\n",
        "    if len(original_set) == 0:\n",
        "      print(f\"There is at least one version of each file that is below {self.threshold_kb} kb.\")\n",
        "    else:\n",
        "      print(f\"There are {len(original_set)} files that are above {self.threshold_kb} kb and have no generated version.\")\n",
        "      for file in original_set:\n",
        "        print(f\"  {file}\")\n",
        "\n",
        "  def generated_and_original(self, directory_path):\n",
        "    all_files = self.all_valid_files(directory_path)\n",
        "    generated_files = []\n",
        "    original_files = []\n",
        "    for file in all_files:\n",
        "      if self.file_was_generated(file[1]):\n",
        "        generated_files.append(file)\n",
        "      else:\n",
        "        original_files.append(file)\n",
        "\n",
        "    return generated_files, original_files\n",
        "\n",
        "\n",
        "  def trim_prefix(self, path_to_file):\n",
        "    basename = os.path.basename(path_to_file)\n",
        "    if basename.startswith(self.output_reduce_prefix):\n",
        "      return self.trim_prefix(basename[len(self.output_reduce_prefix):])\n",
        "    elif basename.startswith(self.output_resize_prefix):\n",
        "      return self.trim_prefix(basename[len(self.output_resize_prefix):])\n",
        "    elif basename.startswith(self.best_prefix):\n",
        "      return self.trim_prefix(basename[len(self.best_prefix):])\n",
        "\n",
        "    return basename\n",
        "\n",
        "\n",
        "  def modify_gif_options(self, colors_: int, scale_ratio: str, lossiness_factor: str):\n",
        "    self.colors_= colors_\n",
        "    self.scale_ratio = scale_ratio\n",
        "    self.lossiness_factor = lossiness_factor\n",
        "\n",
        "  # Only method that can remove files. Maintains original files.\n",
        "  def save_only_smallest_modified_files(self, directory_path):\n",
        "    for root, _, files in os.walk(directory_path):\n",
        "      for file in files:\n",
        "\n",
        "        file_path = os.path.join(root, file)\n",
        "\n",
        "        if not self.valid_file(file_path) or not self.file_was_generated(file_path):\n",
        "          continue\n",
        "\n",
        "        original_path = os.path.join(root, self.trim_prefix(file_path))\n",
        "\n",
        "        best_path = self.insert_prefix(self.best_prefix, original_path)\n",
        "\n",
        "        if not os.path.exists(best_path):\n",
        "          shutil.move(file_path, best_path)\n",
        "          continue\n",
        "\n",
        "        if self.get_file_size_kb(file_path) < self.get_file_size_kb(best_path):\n",
        "          shutil.move(file_path, best_path)\n",
        "        else:\n",
        "          os.remove(file_path)"
      ],
      "metadata": {
        "id": "kS2-lBXOZ0QN"
      },
      "execution_count": 201,
      "outputs": []
    },
    {
      "cell_type": "markdown",
      "source": [
        "# **Ejemplos de uso**"
      ],
      "metadata": {
        "id": "BBuS8-0tfTRt"
      }
    },
    {
      "cell_type": "markdown",
      "source": [
        "## **Setup en colab**"
      ],
      "metadata": {
        "id": "Ktd3oVPWFPL1"
      }
    },
    {
      "cell_type": "code",
      "source": [
        "# Subir archivos desde drive\n",
        "from google.colab import drive\n",
        "drive.mount('/content/drive')"
      ],
      "metadata": {
        "colab": {
          "base_uri": "https://localhost:8080/"
        },
        "id": "nK5kx_Kgd97u",
        "outputId": "581a9a0c-3b24-45c7-8755-9cd65ad4f261"
      },
      "execution_count": null,
      "outputs": [
        {
          "output_type": "stream",
          "name": "stdout",
          "text": [
            "Mounted at /content/drive\n"
          ]
        }
      ]
    },
    {
      "cell_type": "code",
      "source": [
        "# Cargar archivos a libreta\n",
        "!unzip /content/drive/MyDrive/cva/IlustracionesNuevas.zip"
      ],
      "metadata": {
        "id": "HTNECbhMe3nz",
        "colab": {
          "base_uri": "https://localhost:8080/"
        },
        "outputId": "21cf289d-bb44-4ab4-ee32-e7339364538f"
      },
      "execution_count": null,
      "outputs": [
        {
          "output_type": "stream",
          "name": "stdout",
          "text": [
            "Archive:  /content/drive/MyDrive/cva/IlustracionesNuevas.zip\n",
            "   creating: Ilustraciones nuevas/Barra de navegaciвn/\n",
            "   creating: Ilustraciones nuevas/Barra de navegaciвn/Contаctanos/\n",
            "  inflating: Ilustraciones nuevas/Barra de navegaciвn/Contаctanos/BarraNavegecion_Contactanos.png  \n",
            "   creating: Ilustraciones nuevas/Barra de navegaciвn/Creditos/\n",
            "  inflating: Ilustraciones nuevas/Barra de navegaciвn/Creditos/BarraNavegecion_Creditos.png  \n",
            "   creating: Ilustraciones nuevas/Barra de navegaciвn/Fin de curso/\n",
            "  inflating: Ilustraciones nuevas/Barra de navegaciвn/Fin de curso/Fin De Curso_transparente-01.png  \n",
            "  inflating: Ilustraciones nuevas/Barra de navegaciвn/Fin de curso/Fin De Curso-01.png  \n",
            "   creating: Ilustraciones nuevas/Barra de navegaciвn/Introducciвn/\n",
            "  inflating: Ilustraciones nuevas/Barra de navegaciвn/Introducciвn/CVA_migrantes_finales_1-01.jpg  \n",
            "  inflating: Ilustraciones nuevas/Barra de navegaciвn/Introducciвn/Migrantes_bienvenida-01-01.jpg  \n",
            "  inflating: Ilustraciones nuevas/Barra de navegaciвn/Introducciвn/Objetivos.png  \n",
            "   creating: Ilustraciones nuevas/Barra de navegaciвn/Mapa conceptual/\n",
            "  inflating: Ilustraciones nuevas/Barra de navegaciвn/Mapa conceptual/Mapa_Migrantes_transparente-01.png  \n",
            "  inflating: Ilustraciones nuevas/Barra de navegaciвn/Mapa conceptual/Mapa_Migrantes-01.png  \n",
            "   creating: Ilustraciones nuevas/Barra de navegaciвn/Metodologбa/\n",
            "  inflating: Ilustraciones nuevas/Barra de navegaciвn/Metodologбa/BarraNavegecion_Metodologia.png  \n",
            "   creating: Ilustraciones nuevas/Barra de navegaciвn/Objetivos/\n",
            "  inflating: Ilustraciones nuevas/Barra de navegaciвn/Objetivos/Objetivos.png  \n",
            "   creating: Ilustraciones nuevas/Barra de navegaciвn/Polбticas/\n",
            "  inflating: Ilustraciones nuevas/Barra de navegaciвn/Polбticas/BarraNavegacion_Politicas.png  \n",
            "   creating: Ilustraciones nuevas/Barra de navegaciвn/Tarjetas de temario/\n",
            "  inflating: Ilustraciones nuevas/Barra de navegaciвn/Tarjetas de temario/TarjetasTemarios_Modulo1.png  \n",
            "  inflating: Ilustraciones nuevas/Barra de navegaciвn/Tarjetas de temario/TarjetasTemarios_Modulo2.png  \n",
            "  inflating: Ilustraciones nuevas/Barra de navegaciвn/Tarjetas de temario/TarjetasTemarios_Modulo3.png  \n",
            "  inflating: Ilustraciones nuevas/Barra de navegaciвn/Tarjetas de temario/TarjetasTemarios_Modulo4.png  \n",
            "  inflating: Ilustraciones nuevas/Barra de navegaciвn/Tarjetas de temario/TarjetasTemarios_Modulo5.png  \n",
            "   creating: Ilustraciones nuevas/Mвdulo 2/\n",
            "   creating: Ilustraciones nuevas/Mвdulo 2/2.1 Diferencias entre la concepciвn de salud/\n",
            "  inflating: Ilustraciones nuevas/Mвdulo 2/2.1 Diferencias entre la concepciвn de salud/esquemaUNIDAD2.gif  \n",
            "   creating: Ilustraciones nuevas/Mвdulo 2/2.1 MВxico y EE.UU/\n",
            "  inflating: Ilustraciones nuevas/Mвdulo 2/2.1 MВxico y EE.UU/1-Modulo2_SeguridadSocial.png  \n",
            "  inflating: Ilustraciones nuevas/Mвdulo 2/2.1 MВxico y EE.UU/1-Modulo2_SocialSecurity.png  \n",
            "  inflating: Ilustraciones nuevas/Mвdulo 2/2.1 MВxico y EE.UU/2.2-EsquemaSituacionMX.gif  \n",
            "  inflating: Ilustraciones nuevas/Mвdulo 2/2.1 MВxico y EE.UU/2.2-EsquemaSituacionMX.mp4  \n",
            "  inflating: Ilustraciones nuevas/Mвdulo 2/2.1 MВxico y EE.UU/2.3-EsquemaSituacionUSA.gif  \n",
            "  inflating: Ilustraciones nuevas/Mвdulo 2/2.1 MВxico y EE.UU/2.3-EsquemaSituacionUSA.mov  \n",
            "  inflating: Ilustraciones nuevas/Mвdulo 2/2.1 MВxico y EE.UU/2-Unidad2_BanderaEEUU-copy.gif  \n",
            "  inflating: Ilustraciones nuevas/Mвdulo 2/2.1 MВxico y EE.UU/2-Unidad2_BanderaMexico.gif  \n",
            "   creating: Ilustraciones nuevas/Mвdulo 2/2.2 Intermediarios/\n",
            "  inflating: Ilustraciones nuevas/Mвdulo 2/2.2 Intermediarios/Intermediarios.gif  \n",
            "   creating: Ilustraciones nuevas/Mвdulo 2/2.3 Consecuencias Falta Prevenciвn/\n",
            "  inflating: Ilustraciones nuevas/Mвdulo 2/2.3 Consecuencias Falta Prevenciвn/U2_FaltadePrevencion.png  \n",
            "   creating: Ilustraciones nuevas/Mвdulo 2/Actividad 1/\n",
            "  inflating: Ilustraciones nuevas/Mвdulo 2/Actividad 1/Unidad2_BanderaMX-01.png  \n",
            "  inflating: Ilustraciones nuevas/Mвdulo 2/Actividad 1/Unidad2_BanderaUS-01.png  \n",
            "   creating: Ilustraciones nuevas/Mвdulo 2/Extras/\n",
            "  inflating: Ilustraciones nuevas/Mвdulo 2/Extras/mapa1.mov  \n",
            "  inflating: Ilustraciones nuevas/Mвdulo 2/Extras/U2_IntermediariosEnLaPrestacion.png  \n",
            "  inflating: Ilustraciones nuevas/Mвdulo 2/Extras/U2_SeguroSocial.png  \n",
            "  inflating: Ilustraciones nuevas/Mвdulo 2/Extras/U2_SeguroSocial-01.png  \n",
            "  inflating: Ilustraciones nuevas/Mвdulo 2/Extras/U2_SocialSecurity.png  \n",
            "  inflating: Ilustraciones nuevas/Mвdulo 2/Extras/Unidad2_DiferenciasEntreMexicoyEEUU-01.png  \n",
            "  inflating: Ilustraciones nuevas/Mвdulo 2/Extras/Unidad2_FaltadePrevencion-01.png  \n",
            "  inflating: Ilustraciones nuevas/Mвdulo 2/Extras/Unidad2_SeguroSocial-01.png  \n",
            "  inflating: Ilustraciones nuevas/Mвdulo 2/Extras/Unidad2_SocialSecurity-01.png  \n",
            "   creating: Ilustraciones nuevas/Mвdulo 3/\n",
            "   creating: Ilustraciones nuevas/Mвdulo 3/3.1.1 Compaдias/\n",
            "  inflating: Ilustraciones nuevas/Mвdulo 3/3.1.1 Compaдias/U3_BlueCross.png  \n",
            "  inflating: Ilustraciones nuevas/Mвdulo 3/3.1.1 Compaдias/U3_ISISHealth.png  \n",
            "  inflating: Ilustraciones nuevas/Mвdulo 3/3.1.1 Compaдias/U3_TravelInsurace.png  \n",
            "   creating: Ilustraciones nuevas/Mвdulo 3/3.1.2 Poliza SGMM/\n",
            "  inflating: Ilustraciones nuevas/Mвdulo 3/3.1.2 Poliza SGMM/U3_Bienvenida.png  \n",
            "  inflating: Ilustraciones nuevas/Mвdulo 3/3.1.2 Poliza SGMM/U3_Juanita.png  \n",
            "  inflating: Ilustraciones nuevas/Mвdulo 3/3.1.2 Poliza SGMM/U3_Pedro.png  \n",
            "  inflating: Ilustraciones nuevas/Mвdulo 3/3.1.2 Poliza SGMM/Unidad3_Bienvenida.png  \n",
            "  inflating: Ilustraciones nuevas/Mвdulo 3/3.1.2 Poliza SGMM/Unidad3_Juanita.png  \n",
            "  inflating: Ilustraciones nuevas/Mвdulo 3/3.1.2 Poliza SGMM/Unidad3_Pedro.png  \n",
            "   creating: Ilustraciones nuevas/Mвdulo 3/3.1.3 Deducible/\n",
            "  inflating: Ilustraciones nuevas/Mвdulo 3/3.1.3 Deducible/U3_Juanita_PlanCompleto.png  \n",
            "  inflating: Ilustraciones nuevas/Mвdulo 3/3.1.3 Deducible/U3_Pedro_PlanBasico.png  \n",
            "  inflating: Ilustraciones nuevas/Mвdulo 3/3.1.3 Deducible/Unidad3_Juanita_PlanCompleto.png  \n",
            "  inflating: Ilustraciones nuevas/Mвdulo 3/3.1.3 Deducible/Unidad3_Pedro_PlanBasico.png  \n",
            "   creating: Ilustraciones nuevas/Mвdulo 3/3.1.4 Prima/\n",
            "  inflating: Ilustraciones nuevas/Mвdulo 3/3.1.4 Prima/U3_EsquemaPrima.png  \n",
            "  inflating: Ilustraciones nuevas/Mвdulo 3/3.1.4 Prima/Unidad3_EsquemaPrima.png  \n",
            "   creating: Ilustraciones nuevas/Mвdulo 3/3.2 Tipos de seguros/\n",
            "  inflating: Ilustraciones nuevas/Mвdulo 3/3.2 Tipos de seguros/1-U3_SGMM_Individuales.png  \n",
            "  inflating: Ilustraciones nuevas/Mвdulo 3/3.2 Tipos de seguros/1-Unidad3_SGMM_Individuales.png  \n",
            "  inflating: Ilustraciones nuevas/Mвdulo 3/3.2 Tipos de seguros/2-Juanita.gif  \n",
            "  inflating: Ilustraciones nuevas/Mвdulo 3/3.2 Tipos de seguros/2-Pedro.gif  \n",
            "  inflating: Ilustraciones nuevas/Mвdulo 3/3.2 Tipos de seguros/3-.png  \n",
            "  inflating: Ilustraciones nuevas/Mвdulo 3/3.2 Tipos de seguros/3-U3_LosPlanesDeSegurosPedro.png  \n",
            "  inflating: Ilustraciones nuevas/Mвdulo 3/3.2 Tipos de seguros/3-U3_MapaLosPlanesdeSeguros.png  \n",
            "  inflating: Ilustraciones nuevas/Mвdulo 3/3.2 Tipos de seguros/3-Unidad3_LosPlanesdeSeguro.png  \n",
            "  inflating: Ilustraciones nuevas/Mвdulo 3/3.2 Tipos de seguros/3-Unidad3_LosPlanesDeSegurosPedro.png  \n",
            "  inflating: Ilustraciones nuevas/Mвdulo 3/3.2 Tipos de seguros/3-Unidad3_MapaLosPlanesdeSeguros.png  \n",
            "  inflating: Ilustraciones nuevas/Mвdulo 3/3.2 Tipos de seguros/4-U3_ComoElegirPlandeSeguro.png  \n",
            "  inflating: Ilustraciones nuevas/Mвdulo 3/3.2 Tipos de seguros/4-Unidad3_ComoElegirPlandeSeguro.png  \n",
            "   creating: Ilustraciones nuevas/Mвdulo 3/3.3 Situaciones/\n",
            "  inflating: Ilustraciones nuevas/Mвdulo 3/3.3 Situaciones/U3_Estudiante.png  \n",
            "  inflating: Ilustraciones nuevas/Mвdulo 3/3.3 Situaciones/U3_Persona con documentos.png  \n",
            "  inflating: Ilustraciones nuevas/Mвdulo 3/3.3 Situaciones/U3_Persona sin documentos.png  \n",
            "  inflating: Ilustraciones nuevas/Mвdulo 3/3.3 Situaciones/Unidad3_Estudiante.png  \n",
            "  inflating: Ilustraciones nuevas/Mвdulo 3/3.3 Situaciones/Unidad3_Persona con documentos.png  \n",
            "  inflating: Ilustraciones nuevas/Mвdulo 3/3.3 Situaciones/Unidad3_Persona sin documentos.png  \n",
            "   creating: Ilustraciones nuevas/Mвdulo 3/Bienvenida/\n",
            "  inflating: Ilustraciones nuevas/Mвdulo 3/Bienvenida/U3_Bienvenida 2.png  \n",
            "  inflating: Ilustraciones nuevas/Mвdulo 3/Bienvenida/Unidad3_Bienvenida 2.png  \n",
            "   creating: Ilustraciones nuevas/Mвdulo 3/Extras/\n",
            "  inflating: Ilustraciones nuevas/Mвdulo 3/Extras/U3_Bienvenida.png  \n",
            "  inflating: Ilustraciones nuevas/Mвdulo 3/Extras/U3_MapaConceptualModulo3_Prima.png  \n",
            "  inflating: Ilustraciones nuevas/Mвdulo 3/Extras/Unidad3_Bienvenida.png  \n",
            "   creating: Ilustraciones nuevas/Mвdulo 4/\n",
            "   creating: Ilustraciones nuevas/Mвdulo 4/4.0 Bienvenida/\n",
            "  inflating: Ilustraciones nuevas/Mвdulo 4/4.0 Bienvenida/Unidad4_Introduccion.png  \n",
            "  inflating: Ilustraciones nuevas/Mвdulo 4/4.0 Bienvenida/Unidad4_transparente_Introduccion.png  \n",
            "   creating: Ilustraciones nuevas/Mвdulo 4/4A. Programas y servicios/\n",
            "   creating: Ilustraciones nuevas/Mвdulo 4/4A. Programas y servicios/4A1. Clбncias pгblicas/\n",
            "  inflating: Ilustraciones nuevas/Mвdulo 4/4A. Programas y servicios/4A1. Clбncias pгblicas/Unidad4_ClinicasPublicas.png  \n",
            "  inflating: Ilustraciones nuevas/Mвdulo 4/4A. Programas y servicios/4A1. Clбncias pгblicas/Unidad4_transparente_ClinicasPublicas.png  \n",
            "   creating: Ilustraciones nuevas/Mвdulo 4/4A. Programas y servicios/4A2. Org de apoyo/\n",
            "  inflating: Ilustraciones nuevas/Mвdulo 4/4A. Programas y servicios/4A2. Org de apoyo/Unidad4_ApoyoAMigrantes.png  \n",
            "  inflating: Ilustraciones nuevas/Mвdulo 4/4A. Programas y servicios/Unidad4_AProgramasyServicios.png  \n",
            "  inflating: Ilustraciones nuevas/Mвdulo 4/4A. Programas y servicios/Unidad4_transparente_AProgramasyServicios.png  \n",
            "   creating: Ilustraciones nuevas/Mвdulo 4/4B. Servicios pгblicos para familias de bajos recursos/\n",
            "   creating: Ilustraciones nuevas/Mвdulo 4/4B. Servicios pгblicos para familias de bajos recursos/4B1. Medicaid/\n",
            "   creating: Ilustraciones nuevas/Mвdulo 4/4B. Servicios pгblicos para familias de bajos recursos/4B1. Medicaid/4B. Requisitos para aplicar a Medicaid/\n",
            "  inflating: Ilustraciones nuevas/Mвdulo 4/4B. Servicios pгblicos para familias de bajos recursos/4B1. Medicaid/4B. Requisitos para aplicar a Medicaid/u4_requisitosParaAplicar-01.png  \n",
            "  inflating: Ilustraciones nuevas/Mвdulo 4/4B. Servicios pгblicos para familias de bajos recursos/4B1. Medicaid/4B. Requisitos para aplicar a Medicaid/u4_requisitosParaAplicartransparente-01.png  \n",
            "  inflating: Ilustraciones nuevas/Mвdulo 4/4B. Servicios pгblicos para familias de bajos recursos/4B1. Medicaid/Unidad4_C1-MujeresEmbarazadas.png  \n",
            "  inflating: Ilustraciones nuevas/Mвdulo 4/4B. Servicios pгblicos para familias de bajos recursos/4B1. Medicaid/Unidad4_Medicaid_Adolescentes (1).png  \n",
            "  inflating: Ilustraciones nuevas/Mвdulo 4/4B. Servicios pгblicos para familias de bajos recursos/4B1. Medicaid/Unidad4_Medicaid_Adultomayor.png  \n",
            "  inflating: Ilustraciones nuevas/Mвdulo 4/4B. Servicios pгblicos para familias de bajos recursos/4B1. Medicaid/Unidad4_Medicaid_Discapacidad.png  \n",
            "  inflating: Ilustraciones nuevas/Mвdulo 4/4B. Servicios pгblicos para familias de bajos recursos/4B1. Medicaid/Unidad4_Medicaid_DiscapacidadVisual.png  \n",
            "  inflating: Ilustraciones nuevas/Mвdulo 4/4B. Servicios pгblicos para familias de bajos recursos/4B1. Medicaid/Unidad4_Medicaid_mujeresEmbarazadas (1).png  \n",
            "  inflating: Ilustraciones nuevas/Mвdulo 4/4B. Servicios pгblicos para familias de bajos recursos/4B1. Medicaid/Unidad4_transparente_C1-MujeresEmbarazadas.png  \n",
            "  inflating: Ilustraciones nuevas/Mвdulo 4/4B. Servicios pгblicos para familias de bajos recursos/4B1. Medicaid/Unidad4_transparente_Medicaid_Adolescentes.png  \n",
            "  inflating: Ilustraciones nuevas/Mвdulo 4/4B. Servicios pгblicos para familias de bajos recursos/4B1. Medicaid/Unidad4_transparente_Medicaid_Adultomayor.png  \n",
            "  inflating: Ilustraciones nuevas/Mвdulo 4/4B. Servicios pгblicos para familias de bajos recursos/4B1. Medicaid/Unidad4_transparente_Medicaid_Discapacidad.png  \n",
            "  inflating: Ilustraciones nuevas/Mвdulo 4/4B. Servicios pгblicos para familias de bajos recursos/4B1. Medicaid/Unidad4_transparente_Medicaid_DiscapacidadVisual.png  \n",
            "   creating: Ilustraciones nuevas/Mвdulo 4/4B. Servicios pгblicos para familias de bajos recursos/4B2. Medicare/\n",
            "   creating: Ilustraciones nuevas/Mвdulo 4/4B. Servicios pгblicos para familias de bajos recursos/4B2. Medicare/4B.(b) Numero de seguro social/\n",
            "  inflating: Ilustraciones nuevas/Mвdulo 4/4B. Servicios pгblicos para familias de bajos recursos/4B2. Medicare/4B.(b) Numero de seguro social/Unidad4_RequisitosSSN.png  \n",
            "  inflating: Ilustraciones nuevas/Mвdulo 4/4B. Servicios pгblicos para familias de bajos recursos/4B2. Medicare/4B.(b) Numero de seguro social/Unidad4_transparente_RequisitosSSN.png  \n",
            "   creating: Ilustraciones nuevas/Mвdulo 4/4B. Servicios pгblicos para familias de bajos recursos/4B2. Medicare/4B2. Requisitos para aplicar a Medicare/\n",
            "  inflating: Ilustraciones nuevas/Mвdulo 4/4B. Servicios pгblicos para familias de bajos recursos/4B2. Medicare/4B2. Requisitos para aplicar a Medicare/Unidad4_Requisitos.png  \n",
            "  inflating: Ilustraciones nuevas/Mвdulo 4/4B. Servicios pгblicos para familias de bajos recursos/4B2. Medicare/4B2. Requisitos para aplicar a Medicare/Unidad4_transparente_Requisitos.png  \n",
            "   creating: Ilustraciones nuevas/Mвdulo 4/4B. Servicios pгblicos para familias de bajos recursos/4B2. Medicare/Trаmites para obtener beneficios de Medicaid y Medicare/\n",
            "  inflating: Ilustraciones nuevas/Mвdulo 4/4B. Servicios pгblicos para familias de bajos recursos/4B2. Medicare/Trаmites para obtener beneficios de Medicaid y Medicare/1-Unidad4_Tramites para obtener beneficios.png  \n",
            "  inflating: Ilustraciones nuevas/Mвdulo 4/4B. Servicios pгblicos para familias de bajos recursos/4B2. Medicare/Trаmites para obtener beneficios de Medicaid y Medicare/2-Unidad4_TrabajoporTemporadas.png  \n",
            "  inflating: Ilustraciones nuevas/Mвdulo 4/4B. Servicios pгblicos para familias de bajos recursos/4B2. Medicare/Trаmites para obtener beneficios de Medicaid y Medicare/3-Unidad4_SalarioMensualPromedio.png  \n",
            "  inflating: Ilustraciones nuevas/Mвdulo 4/4B. Servicios pгblicos para familias de bajos recursos/4B2. Medicare/Unidad4_Medicaid_Adultomayor.png  \n",
            "  inflating: Ilustraciones nuevas/Mвdulo 4/4B. Servicios pгblicos para familias de bajos recursos/4B2. Medicare/Unidad4_Medicare_Renales.png  \n",
            "  inflating: Ilustraciones nuevas/Mвdulo 4/4B. Servicios pгblicos para familias de bajos recursos/4B2. Medicare/Unidad4_TerceraEdadconDiscapacidad.png  \n",
            "  inflating: Ilustraciones nuevas/Mвdulo 4/4B. Servicios pгblicos para familias de bajos recursos/4B2. Medicare/Unidad4_transparente_Medicaid_Adultomayor.png  \n",
            "  inflating: Ilustraciones nuevas/Mвdulo 4/4B. Servicios pгblicos para familias de bajos recursos/4B2. Medicare/Unidad4_transparente_Medicare_Renales.png  \n",
            "  inflating: Ilustraciones nuevas/Mвdulo 4/4B. Servicios pгblicos para familias de bajos recursos/4B2. Medicare/Unidad4_transparente_TerceraEdadconDiscapacidad.png  \n",
            "  inflating: Ilustraciones nuevas/Mвdulo 4/4B. Servicios pгblicos para familias de bajos recursos/U4_LogoMedicaid.png  \n",
            "  inflating: Ilustraciones nuevas/Mвdulo 4/4B. Servicios pгblicos para familias de bajos recursos/Unidad4_LogoMedicaid.png  \n",
            "   creating: Ilustraciones nuevas/Mвdulo 4/4C. Programas dirigidos a la mujer/\n",
            "   creating: Ilustraciones nuevas/Mвdulo 4/4C. Programas dirigidos a la mujer/4C1. Mujeres embarazadas/\n",
            "  inflating: Ilustraciones nuevas/Mвdulo 4/4C. Programas dirigidos a la mujer/4C1. Mujeres embarazadas/Unidad4_C1-MujeresEmbarazadas.png  \n",
            "  inflating: Ilustraciones nuevas/Mвdulo 4/4C. Programas dirigidos a la mujer/4C1. Mujeres embarazadas/Unidad4_transparente_C1-MujeresEmbarazadas.png  \n",
            "   creating: Ilustraciones nuevas/Mвdulo 4/4C. Programas dirigidos a la mujer/4C2. WIC/\n",
            "  inflating: Ilustraciones nuevas/Mвdulo 4/4C. Programas dirigidos a la mujer/4C2. WIC/Unidad4_C2-WIC(1).png  \n",
            "  inflating: Ilustraciones nuevas/Mвdulo 4/4C. Programas dirigidos a la mujer/4C2. WIC/Unidad4_transparente_C2-WIC(1).png  \n",
            "  inflating: Ilustraciones nuevas/Mвdulo 4/4C. Programas dirigidos a la mujer/4C2. WIC/Unidad4_transparente_WIC_alimentos.png  \n",
            "  inflating: Ilustraciones nuevas/Mвdulo 4/4C. Programas dirigidos a la mujer/4C2. WIC/Unidad4_WIC_alimentos.png  \n",
            "   creating: Ilustraciones nuevas/Mвdulo 4/4C. Programas dirigidos a la mujer/4C3. Mujeres que sufren violencia domВstica/\n",
            "  inflating: Ilustraciones nuevas/Mвdulo 4/4C. Programas dirigidos a la mujer/4C3. Mujeres que sufren violencia domВstica/Unidad4_MujeresViolencia.png  \n",
            "  inflating: Ilustraciones nuevas/Mвdulo 4/4C. Programas dirigidos a la mujer/Unidad4_AtencionPrenatal.png  \n",
            "  inflating: Ilustraciones nuevas/Mвdulo 4/4C. Programas dirigidos a la mujer/Unidad4_transparente_AtencionPrenatal.png  \n",
            "   creating: Ilustraciones nuevas/Mвdulo 4/4D. Progr dirigidos a niдos y adolescentes/\n",
            "   creating: Ilustraciones nuevas/Mвdulo 4/4D. Progr dirigidos a niдos y adolescentes/4D1. SCHIP/\n",
            "  inflating: Ilustraciones nuevas/Mвdulo 4/4D. Progr dirigidos a niдos y adolescentes/4D1. SCHIP/Unidad4_Medicaid_NinosyNinas.png  \n",
            "  inflating: Ilustraciones nuevas/Mвdulo 4/4D. Progr dirigidos a niдos y adolescentes/4D1. SCHIP/Unidad4_transparente_Medicaid_NinosyNinas.png  \n",
            "   creating: Ilustraciones nuevas/Mвdulo 4/4D. Progr dirigidos a niдos y adolescentes/4D2. Headstart/\n",
            "  inflating: Ilustraciones nuevas/Mвdulo 4/4D. Progr dirigidos a niдos y adolescentes/4D2. Headstart/Unidad4_D1_SCHIP.png  \n",
            "  inflating: Ilustraciones nuevas/Mвdulo 4/4D. Progr dirigidos a niдos y adolescentes/4D2. Headstart/Unidad4_D2HeadStart_Discapacidad.png  \n",
            "  inflating: Ilustraciones nuevas/Mвdulo 4/4D. Progr dirigidos a niдos y adolescentes/4D2. Headstart/Unidad4_D2HeadStart_Educacion.png  \n",
            "  inflating: Ilustraciones nuevas/Mвdulo 4/4D. Progr dirigidos a niдos y adolescentes/4D2. Headstart/Unidad4_D2HeadStart_FamiliayComunidad.png  \n",
            "  inflating: Ilustraciones nuevas/Mвdulo 4/4D. Progr dirigidos a niдos y adolescentes/4D2. Headstart/Unidad4_HeadStart_Clinicas.png  \n",
            "  inflating: Ilustraciones nuevas/Mвdulo 4/4D. Progr dirigidos a niдos y adolescentes/4D2. Headstart/Unidad4_transparente_D1_SCHIP.png  \n",
            "  inflating: Ilustraciones nuevas/Mвdulo 4/4D. Progr dirigidos a niдos y adolescentes/4D2. Headstart/Unidad4_transparente_D2HeadStart_Discapacidad.png  \n",
            "  inflating: Ilustraciones nuevas/Mвdulo 4/4D. Progr dirigidos a niдos y adolescentes/4D2. Headstart/Unidad4_transparente_D2HeadStart_Educacion.png  \n",
            "  inflating: Ilustraciones nuevas/Mвdulo 4/4D. Progr dirigidos a niдos y adolescentes/4D2. Headstart/Unidad4_transparente_D2HeadStart_FamiliayComunidad.png  \n",
            "  inflating: Ilustraciones nuevas/Mвdulo 4/4D. Progr dirigidos a niдos y adolescentes/4D2. Headstart/Unidad4_transparente_HeadStart_Clinicas.png  \n",
            "  inflating: Ilustraciones nuevas/Mвdulo 4/4D. Progr dirigidos a niдos y adolescentes/Unidad4_NinosyAdolescentes.png  \n",
            "  inflating: Ilustraciones nuevas/Mвdulo 4/4D. Progr dirigidos a niдos y adolescentes/Unidad4_transparente_NinosyAdolescentes.png  \n",
            "   creating: Ilustraciones nuevas/Mвdulo 4/4E. Bonos de comida/\n",
            "  inflating: Ilustraciones nuevas/Mвdulo 4/4E. Bonos de comida/Unidad4_NutritionFoodstamp.png  \n",
            "  inflating: Ilustraciones nuevas/Mвdulo 4/4E. Bonos de comida/Unidad4_transparente_NutritionFoodstamp.png  \n",
            "   creating: Ilustraciones nuevas/Mвdulo 4/Conclusiвn/\n",
            "  inflating: Ilustraciones nuevas/Mвdulo 4/Conclusiвn/Unidad4_transparente_Concluson.png  \n",
            "   creating: Ilustraciones nuevas/Mвdulo 4/Extras/\n",
            "  inflating: Ilustraciones nuevas/Mвdulo 4/Extras/Unidad4_Aministia.png  \n",
            "  inflating: Ilustraciones nuevas/Mвdulo 4/Extras/Unidad4_Asilados.png  \n",
            "  inflating: Ilustraciones nuevas/Mвdulo 4/Extras/Unidad4_Cubanos.png  \n",
            "  inflating: Ilustraciones nuevas/Mвdulo 4/Extras/Unidad4_Residente legal.png  \n",
            "  inflating: Ilustraciones nuevas/Mвdulo 4/Extras/Unidad4_TraficoHumano.png  \n",
            "  inflating: Ilustraciones nuevas/Mвdulo 4/Extras/Unidad4_ViolenciaDomestica.png  \n",
            "  inflating: Ilustraciones nuevas/Mвdulo 4/U4_LogoMedicaid.png  \n",
            "  inflating: Ilustraciones nuevas/Mвdulo 4/Unidad4_LogoMedicaid.png  \n",
            "   creating: Ilustraciones nuevas/Mвdulo 5/\n",
            "  inflating: Ilustraciones nuevas/Mвdulo 5/AssetsAnimacionU5.mov  \n",
            "   creating: Ilustraciones nuevas/Mвdulo 5/Extras/\n",
            "  inflating: Ilustraciones nuevas/Mвdulo 5/Extras/Unidad5_Temor Deportado.png  \n",
            "  inflating: Ilustraciones nuevas/Mвdulo 5/Extras/UsodeServicios.gif  \n",
            "  inflating: Ilustraciones nuevas/Mвdulo 5/Unidad 5_Temor Deportado.png  \n",
            "   creating: Ilustraciones nuevas/Modulo1/\n",
            "   creating: Ilustraciones nuevas/Modulo1/1.1ComoCuidamosNuestraSalud/\n",
            "  inflating: Ilustraciones nuevas/Modulo1/1.1ComoCuidamosNuestraSalud/U1_CentrosSaludPublica.png  \n",
            "  inflating: Ilustraciones nuevas/Modulo1/1.1ComoCuidamosNuestraSalud/U1_ConsultoriosPrivados-02.png  \n",
            "  inflating: Ilustraciones nuevas/Modulo1/1.1ComoCuidamosNuestraSalud/U1_RemediosCaseros.png  \n",
            "   creating: Ilustraciones nuevas/Modulo1/1.2ConsultoriosPrivados/\n",
            "  inflating: Ilustraciones nuevas/Modulo1/1.2ConsultoriosPrivados/U1_ConsultoriosPrivados-04.png  \n",
            "   creating: Ilustraciones nuevas/Modulo1/1.3RemediosCaseros/\n",
            "  inflating: Ilustraciones nuevas/Modulo1/1.3RemediosCaseros/Unidad1GIF_RemediosCaseros.gif  \n",
            "   creating: Ilustraciones nuevas/Modulo1/1.4AccesoaLaMedicinaEnMВxico/\n",
            "  inflating: Ilustraciones nuevas/Modulo1/1.4AccesoaLaMedicinaEnMВxico/95.jpg  \n",
            "  inflating: Ilustraciones nuevas/Modulo1/1.4AccesoaLaMedicinaEnMВxico/mod_95.jpg  \n",
            "  inflating: Ilustraciones nuevas/Modulo1/1.4AccesoaLaMedicinaEnMВxico/mod_U1_MedicoFamiliar.png  \n",
            "  inflating: Ilustraciones nuevas/Modulo1/1.4AccesoaLaMedicinaEnMВxico/U1_AccesoMedicina.png  \n",
            "  inflating: Ilustraciones nuevas/Modulo1/1.4AccesoaLaMedicinaEnMВxico/U1_MedicoFamiliar.png  \n",
            "  inflating: Ilustraciones nuevas/Modulo1/1.4AccesoaLaMedicinaEnMВxico/U1_MedicoFamiliar-min.png  \n",
            "  inflating: Ilustraciones nuevas/Modulo1/1.4AccesoaLaMedicinaEnMВxico/Unidad1_accesoAlaMedicina-01.png  \n",
            "  inflating: Ilustraciones nuevas/Modulo1/1.4AccesoaLaMedicinaEnMВxico/Unidad1_MedicoFamiliar-01.png  \n",
            "   creating: Ilustraciones nuevas/Modulo1/1a.CentrosDeSaludPublica/\n",
            "  inflating: Ilustraciones nuevas/Modulo1/1a.CentrosDeSaludPublica/DIF_logo-01.png  \n",
            "  inflating: Ilustraciones nuevas/Modulo1/1a.CentrosDeSaludPublica/IMSS_Logo-01.png  \n",
            "  inflating: Ilustraciones nuevas/Modulo1/1a.CentrosDeSaludPublica/ISSSTE_logo-01.png  \n",
            "  inflating: Ilustraciones nuevas/Modulo1/1a.CentrosDeSaludPublica/SEMAR_Logo-01.png  \n",
            "  inflating: Ilustraciones nuevas/Modulo1/1a.CentrosDeSaludPublica/SS_Logo-01.png  \n",
            "   creating: Ilustraciones nuevas/Modulo1/Extras/\n",
            "  inflating: Ilustraciones nuevas/Modulo1/Extras/U1_ConsultoriosPrivados-04.png  \n",
            "  inflating: Ilustraciones nuevas/Modulo1/Extras/Unidad1_ConsultoriosPrivados(1)-01.png  \n",
            "  inflating: Ilustraciones nuevas/Modulo1/Extras/Unidad1_ConsultoriosPrivados-01.png  \n",
            "  inflating: Ilustraciones nuevas/Modulo1/Extras/Unidad1_consultoriosPrivados2-01.png  \n",
            "  inflating: Ilustraciones nuevas/Modulo1/Extras/Unidad1_hospPrivados-01-01.png  \n",
            "  inflating: Ilustraciones nuevas/Modulo1/Extras/Unidad1_hospPublicos-01-01.png  \n",
            "  inflating: Ilustraciones nuevas/Modulo1/Extras/Unidad1_remedioscaseros-01.png  \n"
          ]
        }
      ]
    },
    {
      "cell_type": "markdown",
      "source": [
        "## **Uso de script**"
      ],
      "metadata": {
        "id": "V1De_FiSFfEN"
      }
    },
    {
      "cell_type": "markdown",
      "source": [
        "### **Setup**"
      ],
      "metadata": {
        "id": "OV-Tec4XRwML"
      }
    },
    {
      "cell_type": "code",
      "source": [
        "# Terminos usados:\n",
        "# -resize: cambiar dimensiones de imagen. En el script siempre se mantiene el radio original de la imagen.\n",
        "# -reduce: bajar peso de archivo sin modificar dimensiones.\n",
        "#    - Se puede hacer reduciendo: los colores, aumentando compresion, o bajando calidad\n",
        "\n",
        "# Instanciar clase\n",
        "threshold_kb = 500 # Reducir imagenes que sean más grandes\n",
        "min_quality = 60 # Rango [0, 100]. Usado para jpg.\n",
        "extensions = [\".png\", \".jpg\", \".jpeg\" ,\".gif\"] # Extensiones de archivos a procesar\n",
        "max_img_width_px = 1000 # Reducir imagenes que sean más anchas\n",
        "max_img_height_px = 1000 # Reducir imagenes que sean más altas\n",
        "resize = False # Hacer resize a dimensiones máximas al llamar reduce_jpg o reduce_png\n",
        "\n",
        "reduce_all_valid_files = False # Si es verdadero, va a intentar reducir todas las imágenes, incluso las que estén por debajo del threshold. Poco recomendable ponerlo en true;\n",
        "output_prefix = \"IR_\" # Prefijo de imágenes reducidas\n",
        "output_resize_prefix = \"R_\" # prefijo de imágenes 'resized'\n",
        "best_prefix = \"B_\" # prefijo para cuando se guarda solo la mejor imagen / gif.\n",
        "\n",
        "max_resize = 0.6 # Rango: (0.0, 1.0) La máxima proporción a reducir el tamaño\n",
        "\n",
        "# Opciones para gifs\n",
        "colors_= 32 # Cantidad de colores en imagen. Tiene que ser potencia de 2\n",
        "scale_ratio = '0.5' # (0.0, 1.0] resize en la imagen\n",
        "lossiness_factor = '80' # [0, 100] Entre más alto menor calidad y peso de archivo\n",
        "\n",
        "imagenes_proyecto = ImageReduction(threshold_kb, min_quality,extensions,\n",
        "                                   max_img_width_px, max_img_height_px, resize,\n",
        "                                   reduce_all_valid_files, output_prefix,\n",
        "                                   output_resize_prefix, best_prefix, max_resize, colors_,\n",
        "                                   scale_ratio, lossiness_factor)"
      ],
      "metadata": {
        "id": "DT0bpfRPf_td"
      },
      "execution_count": 202,
      "outputs": []
    },
    {
      "cell_type": "code",
      "source": [
        "# Conseguir path del directorio de imagenes\n",
        "\n",
        "#os.chdir(\"IlustracionesNuevas\")\n",
        "directory_path = \"IlustracionesNuevas\"\n",
        "print(os.listdir(directory_path))"
      ],
      "metadata": {
        "colab": {
          "base_uri": "https://localhost:8080/"
        },
        "id": "gYtKaGt1mHpk",
        "outputId": "5742bfb5-233e-4b45-c865-ee545c9f2e04"
      },
      "execution_count": 197,
      "outputs": [
        {
          "output_type": "stream",
          "name": "stdout",
          "text": [
            "['Mвdulo 5', 'Modulo1', 'Mвdulo 3', 'Mвdulo 4', 'Mвdulo 2', 'Barra de navegaciвn']\n"
          ]
        }
      ]
    },
    {
      "cell_type": "markdown",
      "source": [
        "### **Ver resultados**"
      ],
      "metadata": {
        "id": "FBDnVut9R2Za"
      }
    },
    {
      "cell_type": "code",
      "source": [
        "# Conseguir imágenes que son más pesadas del límite establecido\n",
        "imagenes_proyecto.print_files_above_threshold(directory_path)"
      ],
      "metadata": {
        "colab": {
          "base_uri": "https://localhost:8080/"
        },
        "id": "tJerXZS8kGVK",
        "outputId": "e9903fb2-f436-4ff8-f484-04e6a45bd143"
      },
      "execution_count": 209,
      "outputs": [
        {
          "output_type": "stream",
          "name": "stdout",
          "text": [
            "6297 KB: IlustracionesNuevas/Mвdulo 3/3.2 Tipos de seguros/2-Pedro.gif\n",
            "6154 KB: IlustracionesNuevas/Mвdulo 3/3.2 Tipos de seguros/2-Juanita.gif\n",
            "3375 KB: IlustracionesNuevas/Mвdulo 5/Extras/UsodeServicios.gif\n",
            "2547 KB: IlustracionesNuevas/Mвdulo 2/2.1 Diferencias entre la concepciвn de salud/esquemaUNIDAD2.gif\n",
            "2455 KB: IlustracionesNuevas/Barra de navegaciвn/Introducciвn/Migrantes_bienvenida-01-01.jpg\n",
            "2398 KB: IlustracionesNuevas/Mвdulo 2/2.1 MВxico y EE.UU/2-Unidad2_BanderaMexico.gif\n",
            "1830 KB: IlustracionesNuevas/Mвdulo 2/2.1 MВxico y EE.UU/2-Unidad2_BanderaEEUU-copy.gif\n",
            "1662 KB: IlustracionesNuevas/Barra de navegaciвn/Fin de curso/Fin De Curso-01.png\n",
            "1609 KB: IlustracionesNuevas/Barra de navegaciвn/Introducciвn/CVA_migrantes_finales_1-01.jpg\n",
            "1472 KB: IlustracionesNuevas/Barra de navegaciвn/Fin de curso/Fin De Curso_transparente-01.png\n",
            "1264 KB: IlustracionesNuevas/Modulo1/1.3RemediosCaseros/Unidad1GIF_RemediosCaseros.gif\n",
            "1079 KB: IlustracionesNuevas/Mвdulo 2/2.1 MВxico y EE.UU/2.2-EsquemaSituacionMX.gif\n",
            "1032 KB: IlustracionesNuevas/Barra de navegaciвn/Metodologбa/BarraNavegecion_Metodologia.png\n",
            "996 KB: IlustracionesNuevas/Mвdulo 3/3.2 Tipos de seguros/B_2-Juanita.gif\n",
            "939 KB: IlustracionesNuevas/Barra de navegaciвn/Polбticas/BarraNavegacion_Politicas.png\n",
            "928 KB: IlustracionesNuevas/Mвdulo 3/3.2 Tipos de seguros/B_2-Pedro.gif\n",
            "912 KB: IlustracionesNuevas/Barra de navegaciвn/Creditos/BarraNavegecion_Creditos.png\n",
            "725 KB: IlustracionesNuevas/Mвdulo 2/2.1 MВxico y EE.UU/2.3-EsquemaSituacionUSA.gif\n",
            "600 KB: IlustracionesNuevas/Mвdulo 4/4B. Servicios pгblicos para familias de bajos recursos/4B1. Medicaid/4B. Requisitos para aplicar a Medicaid/u4_requisitosParaAplicar-01.png\n",
            "600 KB: IlustracionesNuevas/Barra de navegaciвn/Objetivos/Objetivos.png\n",
            "600 KB: IlustracionesNuevas/Barra de navegaciвn/Introducciвn/Objetivos.png\n",
            "571 KB: IlustracionesNuevas/Mвdulo 4/4.0 Bienvenida/Unidad4_Introduccion.png\n",
            "523 KB: IlustracionesNuevas/Mвdulo 4/4B. Servicios pгblicos para familias de bajos recursos/4B1. Medicaid/4B. Requisitos para aplicar a Medicaid/u4_requisitosParaAplicartransparente-01.png\n"
          ]
        }
      ]
    },
    {
      "cell_type": "code",
      "source": [
        "# Conseguir imágenes generadas\n",
        "imagenes_proyecto.print_generated_files(directory_path, only_above_threshold=False)\n"
      ],
      "metadata": {
        "colab": {
          "base_uri": "https://localhost:8080/"
        },
        "id": "_Uly2rhHtDLK",
        "outputId": "9880efbf-d11d-4a3c-d741-08e0eee00c8f"
      },
      "execution_count": 208,
      "outputs": [
        {
          "output_type": "stream",
          "name": "stdout",
          "text": [
            "90% of generated files are below threshold\n",
            "[996 KB]: IlustracionesNuevas/Mвdulo 3/3.2 Tipos de seguros/B_2-Juanita.gif\n",
            "[928 KB]: IlustracionesNuevas/Mвdulo 3/3.2 Tipos de seguros/B_2-Pedro.gif\n",
            "[457 KB]: IlustracionesNuevas/Barra de navegaciвn/Fin de curso/B_Fin De Curso-01.png\n",
            "[411 KB]: IlustracionesNuevas/Mвdulo 2/2.1 Diferencias entre la concepciвn de salud/B_esquemaUNIDAD2.gif\n",
            "[409 KB]: IlustracionesNuevas/Mвdulo 2/2.1 MВxico y EE.UU/B_2.2-EsquemaSituacionMX.gif\n",
            "[406 KB]: IlustracionesNuevas/Barra de navegaciвn/Introducciвn/B_CVA_migrantes_finales_1-01.jpg\n",
            "[389 KB]: IlustracionesNuevas/Barra de navegaciвn/Introducciвn/B_Migrantes_bienvenida-01-01.jpg\n",
            "[377 KB]: IlustracionesNuevas/Mвdulo 2/2.1 MВxico y EE.UU/B_2-Unidad2_BanderaMexico.gif\n",
            "[368 KB]: IlustracionesNuevas/Mвdulo 2/2.1 MВxico y EE.UU/B_2-Unidad2_BanderaEEUU-copy.gif\n",
            "[368 KB]: IlustracionesNuevas/Modulo1/1.3RemediosCaseros/B_Unidad1GIF_RemediosCaseros.gif\n",
            "[347 KB]: IlustracionesNuevas/Barra de navegaciвn/Creditos/B_BarraNavegecion_Creditos.png\n",
            "[333 KB]: IlustracionesNuevas/Barra de navegaciвn/Metodologбa/B_BarraNavegecion_Metodologia.png\n",
            "[292 KB]: IlustracionesNuevas/Barra de navegaciвn/Polбticas/B_BarraNavegacion_Politicas.png\n",
            "[258 KB]: IlustracionesNuevas/Barra de navegaciвn/Objetivos/B_Objetivos.png\n",
            "[258 KB]: IlustracionesNuevas/Barra de navegaciвn/Introducciвn/B_Objetivos.png\n",
            "[249 KB]: IlustracionesNuevas/Barra de navegaciвn/Fin de curso/B_Fin De Curso_transparente-01.png\n",
            "[246 KB]: IlustracionesNuevas/Mвdulo 5/Extras/B_UsodeServicios.gif\n",
            "[240 KB]: IlustracionesNuevas/Mвdulo 2/2.1 MВxico y EE.UU/B_2.3-EsquemaSituacionUSA.gif\n",
            "[229 KB]: IlustracionesNuevas/Mвdulo 4/4B. Servicios pгblicos para familias de bajos recursos/4B1. Medicaid/4B. Requisitos para aplicar a Medicaid/B_u4_requisitosParaAplicartransparente-01.png\n",
            "[228 KB]: IlustracionesNuevas/Mвdulo 4/4B. Servicios pгblicos para familias de bajos recursos/4B1. Medicaid/4B. Requisitos para aplicar a Medicaid/B_u4_requisitosParaAplicar-01.png\n",
            "[188 KB]: IlustracionesNuevas/Mвdulo 4/4.0 Bienvenida/B_Unidad4_Introduccion.png\n"
          ]
        }
      ]
    },
    {
      "cell_type": "code",
      "source": [
        "# Checar cuáles imagenes no tienen una version menor al threshold en peso\n",
        "imagenes_proyecto.check_remaining_files(directory_path)"
      ],
      "metadata": {
        "colab": {
          "base_uri": "https://localhost:8080/"
        },
        "id": "iNmQX0c0totg",
        "outputId": "efc17a48-992f-467f-b3a1-db487bfb3c89"
      },
      "execution_count": 207,
      "outputs": [
        {
          "output_type": "stream",
          "name": "stdout",
          "text": [
            "There are 2 files that are above 500 kb and have no generated version.\n",
            "  2-Juanita.gif\n",
            "  2-Pedro.gif\n"
          ]
        }
      ]
    },
    {
      "cell_type": "markdown",
      "source": [
        "### **Optimizar imagenes**"
      ],
      "metadata": {
        "id": "n_ytwMpJSEmn"
      }
    },
    {
      "cell_type": "code",
      "source": [
        "# Reducir imágenes que sobrepasan el threshold\n",
        "imagenes_proyecto.reduce_directory(directory_path)"
      ],
      "metadata": {
        "colab": {
          "base_uri": "https://localhost:8080/"
        },
        "id": "fD1-RgqAkuv8",
        "outputId": "d1041056-044e-4151-baed-ce5043f71f0b"
      },
      "execution_count": 144,
      "outputs": [
        {
          "output_type": "stream",
          "name": "stdout",
          "text": [
            "[63.36% reduction | 6297 kb -> 2307 kb: IlustracionesNuevas/Mвdulo 3/3.2 Tipos de seguros/IR_2-Pedro.gif]\n",
            "Warning: file size reduced but image remains above theshold for IlustracionesNuevas/Mвdulo 3/3.2 Tipos de seguros/IR_2-Pedro.gif.\n",
            "[60.19% reduction | 6154 kb -> 2450 kb: IlustracionesNuevas/Mвdulo 3/3.2 Tipos de seguros/IR_2-Juanita.gif]\n",
            "Warning: file size reduced but image remains above theshold for IlustracionesNuevas/Mвdulo 3/3.2 Tipos de seguros/IR_2-Juanita.gif.\n",
            "[81.19% reduction | 3375 kb -> 635 kb: IlustracionesNuevas/Mвdulo 5/Extras/IR_UsodeServicios.gif]\n",
            "Warning: file size reduced but image remains above theshold for IlustracionesNuevas/Mвdulo 5/Extras/IR_UsodeServicios.gif.\n",
            "[57.44% reduction | 2547 kb -> 1084 kb: IlustracionesNuevas/Mвdulo 2/2.1 Diferencias entre la concepciвn de salud/IR_esquemaUNIDAD2.gif]\n",
            "Warning: file size reduced but image remains above theshold for IlustracionesNuevas/Mвdulo 2/2.1 Diferencias entre la concepciвn de salud/IR_esquemaUNIDAD2.gif.\n",
            "[69.86% reduction | 2455 kb -> 740 kb: IlustracionesNuevas/Barra de navegaciвn/Introducciвn/IR_Migrantes_bienvenida-01-01.jpg]\n",
            "Warning: file size reduced but image remains above theshold for IlustracionesNuevas/Barra de navegaciвn/Introducciвn/IR_Migrantes_bienvenida-01-01.jpg.\n",
            "[84.28% reduction | 2398 kb -> 377 kb: IlustracionesNuevas/Mвdulo 2/2.1 MВxico y EE.UU/IR_2-Unidad2_BanderaMexico.gif]\n",
            "[79.89% reduction | 1830 kb -> 368 kb: IlustracionesNuevas/Mвdulo 2/2.1 MВxico y EE.UU/IR_2-Unidad2_BanderaEEUU-copy.gif]\n",
            "[69.31% reduction | 1662 kb -> 510 kb: IlustracionesNuevas/Barra de navegaciвn/Fin de curso/IR_Fin De Curso-01.png]\n",
            "Warning: file size reduced but image remains above theshold for IlustracionesNuevas/Barra de navegaciвn/Fin de curso/IR_Fin De Curso-01.png.\n",
            "[70.54% reduction | 1609 kb -> 474 kb: IlustracionesNuevas/Barra de navegaciвn/Introducciвn/IR_CVA_migrantes_finales_1-01.jpg]\n",
            "[65.96% reduction | 1472 kb -> 501 kb: IlustracionesNuevas/Barra de navegaciвn/Fin de curso/IR_Fin De Curso_transparente-01.png]\n",
            "Warning: file size reduced but image remains above theshold for IlustracionesNuevas/Barra de navegaciвn/Fin de curso/IR_Fin De Curso_transparente-01.png.\n",
            "[70.89% reduction | 1264 kb -> 368 kb: IlustracionesNuevas/Modulo1/1.3RemediosCaseros/IR_Unidad1GIF_RemediosCaseros.gif]\n",
            "[62.09% reduction | 1079 kb -> 409 kb: IlustracionesNuevas/Mвdulo 2/2.1 MВxico y EE.UU/IR_2.2-EsquemaSituacionMX.gif]\n"
          ]
        },
        {
          "output_type": "stream",
          "name": "stderr",
          "text": [
            "/usr/local/lib/python3.10/dist-packages/PIL/Image.py:2918: DecompressionBombWarning: Image size (104183334 pixels) exceeds limit of 89478485 pixels, could be decompression bomb DOS attack.\n",
            "  warnings.warn(\n"
          ]
        },
        {
          "output_type": "stream",
          "name": "stdout",
          "text": [
            "[67.73% reduction | 1032 kb -> 333 kb: IlustracionesNuevas/Barra de navegaciвn/Metodologбa/IR_BarraNavegecion_Metodologia.png]\n"
          ]
        },
        {
          "output_type": "stream",
          "name": "stderr",
          "text": [
            "/usr/local/lib/python3.10/dist-packages/PIL/Image.py:2918: DecompressionBombWarning: Image size (100020001 pixels) exceeds limit of 89478485 pixels, could be decompression bomb DOS attack.\n",
            "  warnings.warn(\n"
          ]
        },
        {
          "output_type": "stream",
          "name": "stdout",
          "text": [
            "[68.9% reduction | 939 kb -> 292 kb: IlustracionesNuevas/Barra de navegaciвn/Polбticas/IR_BarraNavegacion_Politicas.png]\n",
            "[61.95% reduction | 912 kb -> 347 kb: IlustracionesNuevas/Barra de navegaciвn/Creditos/IR_BarraNavegecion_Creditos.png]\n",
            "[66.9% reduction | 725 kb -> 240 kb: IlustracionesNuevas/Mвdulo 2/2.1 MВxico y EE.UU/IR_2.3-EsquemaSituacionUSA.gif]\n",
            "[62.0% reduction | 600 kb -> 228 kb: IlustracionesNuevas/Mвdulo 4/4B. Servicios pгblicos para familias de bajos recursos/4B1. Medicaid/4B. Requisitos para aplicar a Medicaid/IR_u4_requisitosParaAplicar-01.png]\n",
            "[57.0% reduction | 600 kb -> 258 kb: IlustracionesNuevas/Barra de navegaciвn/Objetivos/IR_Objetivos.png]\n",
            "[57.0% reduction | 600 kb -> 258 kb: IlustracionesNuevas/Barra de navegaciвn/Introducciвn/IR_Objetivos.png]\n",
            "[67.08% reduction | 571 kb -> 188 kb: IlustracionesNuevas/Mвdulo 4/4.0 Bienvenida/IR_Unidad4_Introduccion.png]\n",
            "[56.21% reduction | 523 kb -> 229 kb: IlustracionesNuevas/Mвdulo 4/4B. Servicios pгblicos para familias de bajos recursos/4B1. Medicaid/4B. Requisitos para aplicar a Medicaid/IR_u4_requisitosParaAplicartransparente-01.png]\n"
          ]
        }
      ]
    },
    {
      "cell_type": "code",
      "source": [
        "# Hacer resize a imágenes que sobrepasan el threshold\n",
        "imagenes_proyecto.resize_directory(directory_path)"
      ],
      "metadata": {
        "colab": {
          "base_uri": "https://localhost:8080/"
        },
        "id": "OkBDwmp8kSWt",
        "outputId": "9cf91583-74ca-4b71-92f5-25d7055ef018"
      },
      "execution_count": 146,
      "outputs": [
        {
          "output_type": "stream",
          "name": "stdout",
          "text": [
            "[63.36% reduction | 6297 kb -> 2307 kb: IlustracionesNuevas/Mвdulo 3/3.2 Tipos de seguros/IR_2-Pedro.gif]\n",
            "Warning: file size reduced but image remains above theshold for IlustracionesNuevas/Mвdulo 3/3.2 Tipos de seguros/IR_2-Pedro.gif.\n",
            "[60.19% reduction | 6154 kb -> 2450 kb: IlustracionesNuevas/Mвdulo 3/3.2 Tipos de seguros/IR_2-Juanita.gif]\n",
            "Warning: file size reduced but image remains above theshold for IlustracionesNuevas/Mвdulo 3/3.2 Tipos de seguros/IR_2-Juanita.gif.\n",
            "[81.19% reduction | 3375 kb -> 635 kb: IlustracionesNuevas/Mвdulo 5/Extras/IR_UsodeServicios.gif]\n",
            "Warning: file size reduced but image remains above theshold for IlustracionesNuevas/Mвdulo 5/Extras/IR_UsodeServicios.gif.\n",
            "[57.44% reduction | 2547 kb -> 1084 kb: IlustracionesNuevas/Mвdulo 2/2.1 Diferencias entre la concepciвn de salud/IR_esquemaUNIDAD2.gif]\n",
            "Warning: file size reduced but image remains above theshold for IlustracionesNuevas/Mвdulo 2/2.1 Diferencias entre la concepciвn de salud/IR_esquemaUNIDAD2.gif.\n",
            "Warning: resize iteration took too long (4.265763521194458 s) for IlustracionesNuevas/Barra de navegaciвn/Introducciвn/Migrantes_bienvenida-01-01.jpg. Trying only the last iteration.\n",
            "[84.15% reduction | 2455 kb -> 389 kb: IlustracionesNuevas/Barra de navegaciвn/Introducciвn/R_Migrantes_bienvenida-01-01.jpg]\n",
            "Output: 12500 w 2500 h, Input: 20834 w 4167 h\n",
            "[59.35% reduction | 2450 kb -> 996 kb: IlustracionesNuevas/Mвdulo 3/3.2 Tipos de seguros/IR_IR_2-Juanita.gif]\n",
            "Warning: file size reduced but image remains above theshold for IlustracionesNuevas/Mвdulo 3/3.2 Tipos de seguros/IR_IR_2-Juanita.gif.\n",
            "[84.28% reduction | 2398 kb -> 377 kb: IlustracionesNuevas/Mвdulo 2/2.1 MВxico y EE.UU/IR_2-Unidad2_BanderaMexico.gif]\n",
            "[59.77% reduction | 2307 kb -> 928 kb: IlustracionesNuevas/Mвdulo 3/3.2 Tipos de seguros/IR_IR_2-Pedro.gif]\n",
            "Warning: file size reduced but image remains above theshold for IlustracionesNuevas/Mвdulo 3/3.2 Tipos de seguros/IR_IR_2-Pedro.gif.\n",
            "[79.89% reduction | 1830 kb -> 368 kb: IlustracionesNuevas/Mвdulo 2/2.1 MВxico y EE.UU/IR_2-Unidad2_BanderaEEUU-copy.gif]\n",
            "Warning: resize iteration took too long (9.630221128463745 s) for IlustracionesNuevas/Barra de navegaciвn/Fin de curso/Fin De Curso-01.png. Trying only the last iteration.\n",
            "[3.01% reduction | 1662 kb -> 1612 kb: IlustracionesNuevas/Barra de navegaciвn/Fin de curso/R_Fin De Curso-01.png]\n",
            "Output: 3000 w 6500 h, Input: 5000 w 10834 h\n",
            "Warning: file size reduced but image remains above theshold for IlustracionesNuevas/Barra de navegaciвn/Fin de curso/R_Fin De Curso-01.png.\n",
            "[74.77% reduction | 1609 kb -> 406 kb: IlustracionesNuevas/Barra de navegaciвn/Introducciвn/R_CVA_migrantes_finales_1-01.jpg]\n",
            "Output: 3508 w 2481 h, Input: 3508 w 2481 h\n",
            "Warning: resize iteration took too long (8.458126783370972 s) for IlustracionesNuevas/Barra de navegaciвn/Fin de curso/Fin De Curso_transparente-01.png. Trying only the last iteration.\n",
            "[-4.76% reduction | 1472 kb -> 1542 kb: IlustracionesNuevas/Barra de navegaciвn/Fin de curso/R_Fin De Curso_transparente-01.png]\n",
            "Output: 3000 w 6500 h, Input: 5000 w 10834 h\n",
            "WARNING: file size INCREASED for IlustracionesNuevas/Barra de navegaciвn/Fin de curso/R_Fin De Curso_transparente-01.png.\n",
            "[70.89% reduction | 1264 kb -> 368 kb: IlustracionesNuevas/Modulo1/1.3RemediosCaseros/IR_Unidad1GIF_RemediosCaseros.gif]\n",
            "[62.08% reduction | 1084 kb -> 411 kb: IlustracionesNuevas/Mвdulo 2/2.1 Diferencias entre la concepciвn de salud/IR_IR_esquemaUNIDAD2.gif]\n",
            "[62.09% reduction | 1079 kb -> 409 kb: IlustracionesNuevas/Mвdulo 2/2.1 MВxico y EE.UU/IR_2.2-EsquemaSituacionMX.gif]\n"
          ]
        },
        {
          "output_type": "stream",
          "name": "stderr",
          "text": [
            "/usr/local/lib/python3.10/dist-packages/PIL/Image.py:2918: DecompressionBombWarning: Image size (104183334 pixels) exceeds limit of 89478485 pixels, could be decompression bomb DOS attack.\n",
            "  warnings.warn(\n"
          ]
        },
        {
          "output_type": "stream",
          "name": "stdout",
          "text": [
            "Warning: resize iteration took too long (12.905007362365723 s) for IlustracionesNuevas/Barra de navegaciвn/Metodologбa/BarraNavegecion_Metodologia.png. Trying only the last iteration.\n",
            "[22.77% reduction | 1032 kb -> 797 kb: IlustracionesNuevas/Barra de navegaciвn/Metodologбa/R_BarraNavegecion_Metodologia.png]\n",
            "Output: 5000 w 7500 h, Input: 8334 w 12501 h\n",
            "Warning: file size reduced but image remains above theshold for IlustracionesNuevas/Barra de navegaciвn/Metodologбa/R_BarraNavegecion_Metodologia.png.\n"
          ]
        },
        {
          "output_type": "stream",
          "name": "stderr",
          "text": [
            "/usr/local/lib/python3.10/dist-packages/PIL/Image.py:2918: DecompressionBombWarning: Image size (100020001 pixels) exceeds limit of 89478485 pixels, could be decompression bomb DOS attack.\n",
            "  warnings.warn(\n"
          ]
        },
        {
          "output_type": "stream",
          "name": "stdout",
          "text": [
            "Warning: resize iteration took too long (12.601529359817505 s) for IlustracionesNuevas/Barra de navegaciвn/Polбticas/BarraNavegacion_Politicas.png. Trying only the last iteration.\n",
            "[20.77% reduction | 939 kb -> 744 kb: IlustracionesNuevas/Barra de navegaciвn/Polбticas/R_BarraNavegacion_Politicas.png]\n",
            "Output: 6000 w 6000 h, Input: 10001 w 10001 h\n",
            "Warning: file size reduced but image remains above theshold for IlustracionesNuevas/Barra de navegaciвn/Polбticas/R_BarraNavegacion_Politicas.png.\n",
            "Warning: resize iteration took too long (10.171377897262573 s) for IlustracionesNuevas/Barra de navegaciвn/Creditos/BarraNavegecion_Creditos.png. Trying only the last iteration.\n",
            "[1.1% reduction | 912 kb -> 902 kb: IlustracionesNuevas/Barra de navegaciвn/Creditos/R_BarraNavegecion_Creditos.png]\n",
            "Output: 3000 w 6501 h, Input: 5001 w 10835 h\n",
            "Warning: file size reduced but image remains above theshold for IlustracionesNuevas/Barra de navegaciвn/Creditos/R_BarraNavegecion_Creditos.png.\n",
            "Warning: resize iteration took too long (3.976454734802246 s) for IlustracionesNuevas/Barra de navegaciвn/Introducciвn/IR_Migrantes_bienvenida-01-01.jpg. Trying only the last iteration.\n",
            "[47.16% reduction | 740 kb -> 391 kb: IlustracionesNuevas/Barra de navegaciвn/Introducciвn/R_IR_Migrantes_bienvenida-01-01.jpg]\n",
            "Output: 12500 w 2500 h, Input: 20834 w 4167 h\n",
            "[66.9% reduction | 725 kb -> 240 kb: IlustracionesNuevas/Mвdulo 2/2.1 MВxico y EE.UU/IR_2.3-EsquemaSituacionUSA.gif]\n",
            "[61.26% reduction | 635 kb -> 246 kb: IlustracionesNuevas/Mвdulo 5/Extras/IR_IR_UsodeServicios.gif]\n",
            "Warning: resize iteration took too long (3.536210060119629 s) for IlustracionesNuevas/Mвdulo 4/4B. Servicios pгblicos para familias de bajos recursos/4B1. Medicaid/4B. Requisitos para aplicar a Medicaid/u4_requisitosParaAplicar-01.png. Trying only the last iteration.\n",
            "[-8.33% reduction | 600 kb -> 650 kb: IlustracionesNuevas/Mвdulo 4/4B. Servicios pгblicos para familias de bajos recursos/4B1. Medicaid/4B. Requisitos para aplicar a Medicaid/R_u4_requisitosParaAplicar-01.png]\n",
            "Output: 3375 w 2700 h, Input: 5625 w 4500 h\n",
            "WARNING: file size INCREASED for IlustracionesNuevas/Mвdulo 4/4B. Servicios pгblicos para familias de bajos recursos/4B1. Medicaid/4B. Requisitos para aplicar a Medicaid/R_u4_requisitosParaAplicar-01.png.\n",
            "Warning: resize iteration took too long (5.263784646987915 s) for IlustracionesNuevas/Barra de navegaciвn/Objetivos/Objetivos.png. Trying only the last iteration.\n",
            "[-2.67% reduction | 600 kb -> 616 kb: IlustracionesNuevas/Barra de navegaciвn/Objetivos/R_Objetivos.png]\n",
            "Output: 3323 w 4425 h, Input: 5539 w 7375 h\n",
            "WARNING: file size INCREASED for IlustracionesNuevas/Barra de navegaciвn/Objetivos/R_Objetivos.png.\n",
            "Warning: resize iteration took too long (5.224342346191406 s) for IlustracionesNuevas/Barra de navegaciвn/Introducciвn/Objetivos.png. Trying only the last iteration.\n",
            "[-2.67% reduction | 600 kb -> 616 kb: IlustracionesNuevas/Barra de navegaciвn/Introducciвn/R_Objetivos.png]\n",
            "Output: 3323 w 4425 h, Input: 5539 w 7375 h\n",
            "WARNING: file size INCREASED for IlustracionesNuevas/Barra de navegaciвn/Introducciвn/R_Objetivos.png.\n",
            "Warning: resize iteration took too long (4.05285906791687 s) for IlustracionesNuevas/Mвdulo 4/4.0 Bienvenida/Unidad4_Introduccion.png. Trying only the last iteration.\n",
            "[1.93% reduction | 571 kb -> 560 kb: IlustracionesNuevas/Mвdulo 4/4.0 Bienvenida/R_Unidad4_Introduccion.png]\n",
            "Output: 4800 w 2700 h, Input: 8000 w 4501 h\n",
            "Warning: file size reduced but image remains above theshold for IlustracionesNuevas/Mвdulo 4/4.0 Bienvenida/R_Unidad4_Introduccion.png.\n",
            "Warning: resize iteration took too long (4.355503082275391 s) for IlustracionesNuevas/Mвdulo 4/4B. Servicios pгblicos para familias de bajos recursos/4B1. Medicaid/4B. Requisitos para aplicar a Medicaid/u4_requisitosParaAplicartransparente-01.png. Trying only the last iteration.\n",
            "[-8.41% reduction | 523 kb -> 567 kb: IlustracionesNuevas/Mвdulo 4/4B. Servicios pгblicos para familias de bajos recursos/4B1. Medicaid/4B. Requisitos para aplicar a Medicaid/R_u4_requisitosParaAplicartransparente-01.png]\n",
            "Output: 3375 w 2700 h, Input: 5625 w 4500 h\n",
            "WARNING: file size INCREASED for IlustracionesNuevas/Mвdulo 4/4B. Servicios pгblicos para familias de bajos recursos/4B1. Medicaid/4B. Requisitos para aplicar a Medicaid/R_u4_requisitosParaAplicartransparente-01.png.\n",
            "[10.39% reduction | 510 kb -> 457 kb: IlustracionesNuevas/Barra de navegaciвn/Fin de curso/R_IR_Fin De Curso-01.png]\n",
            "Output: 4600 w 9967 h, Input: 5000 w 10834 h\n",
            "Warning: resize iteration took too long (2.436565637588501 s) for IlustracionesNuevas/Barra de navegaciвn/Fin de curso/IR_Fin De Curso_transparente-01.png. Trying only the last iteration.\n",
            "[50.3% reduction | 501 kb -> 249 kb: IlustracionesNuevas/Barra de navegaciвn/Fin de curso/R_IR_Fin De Curso_transparente-01.png]\n",
            "Output: 3000 w 6500 h, Input: 5000 w 10834 h\n"
          ]
        }
      ]
    },
    {
      "cell_type": "code",
      "source": [
        "# Hacer resize a todas las imagenes que sobrepasan dimensiones y threshold de peso\n",
        "# Solo reduce dimensiones a limite máximo (no reduce a menos de eso, como resize_directory)\n",
        "imagenes_proyecto.resize_limits_directory(directory_path)\n",
        "\n",
        "# Hacer resize a todas las imagenes que sobrepasan dimensiones\n",
        "#imagenes_proyecto.resize_limits_directory(directory_path, all=True)\n"
      ],
      "metadata": {
        "colab": {
          "base_uri": "https://localhost:8080/"
        },
        "id": "9VwwGXGZlEWj",
        "outputId": "e363cdd1-bc8b-4b89-e6dc-26928352eb80"
      },
      "execution_count": null,
      "outputs": [
        {
          "output_type": "stream",
          "name": "stdout",
          "text": [
            "[99.47% reduction | 2455 kb -> 13 kb: ./Barra de navegaciвn/Introducciвn/R_Migrantes_bienvenida-01-01.jpg]\n",
            "Output: 999 w 200 h, Input: 20834 w 4167 h\n",
            "Info: skipping, file already exists ./imagenes_recortadas/Barra de navegaciвn/Fin de curso/R_R_R_R_R_Fin De Curso-01.png.\n",
            "Info: skipping, file already exists ./imagenes_recortadas/Barra de navegaciвn/Fin de curso/R_R_R_R_Fin De Curso-01.png.\n",
            "Info: skipping, file already exists ./imagenes_recortadas/Barra de navegaciвn/Fin de curso/R_R_R_Fin De Curso-01.png.\n",
            "Info: skipping, file already exists ./imagenes_recortadas/Barra de navegaciвn/Fin de curso/R_R_Fin De Curso-01.png.\n",
            "[71.96% reduction | 1662 kb -> 466 kb: ./Barra de navegaciвn/Fin de curso/R_Fin De Curso-01.png]\n",
            "Output: 1000 w 2166 h, Input: 5000 w 10834 h\n",
            "[94.84% reduction | 1609 kb -> 83 kb: ./Barra de navegaciвn/Introducciвn/R_CVA_migrantes_finales_1-01.jpg]\n",
            "Output: 1000 w 707 h, Input: 3508 w 2481 h\n",
            "[69.63% reduction | 1472 kb -> 447 kb: ./Barra de navegaciвn/Fin de curso/R_Fin De Curso_transparente-01.png]\n",
            "Output: 1000 w 2166 h, Input: 5000 w 10834 h\n",
            "Info: skipping, file already exists ./imagenes_recortadas/Barra de navegaciвn/Fin de curso/R_R_R_Fin De Curso_transparente-01.png.\n",
            "Info: skipping, file already exists ./imagenes_recortadas/Barra de navegaciвn/Fin de curso/R_R_Fin De Curso_transparente-01.png.\n",
            "[65.1% reduction | 1361 kb -> 475 kb: ./imagenes_recortadas/Barra de navegaciвn/Fin de curso/R_R_R_R_R_R_Fin De Curso-01.png]\n",
            "Output: 1000 w 2166 h, Input: 2600 w 5633 h\n",
            "[65.0% reduction | 1303 kb -> 456 kb: ./imagenes_recortadas/Barra de navegaciвn/Fin de curso/R_R_R_R_Fin De Curso_transparente-01.png]\n",
            "Output: 1000 w 2166 h, Input: 2600 w 5633 h\n"
          ]
        },
        {
          "output_type": "stream",
          "name": "stderr",
          "text": [
            "/usr/local/lib/python3.10/dist-packages/PIL/Image.py:2918: DecompressionBombWarning: Image size (104183334 pixels) exceeds limit of 89478485 pixels, could be decompression bomb DOS attack.\n",
            "  warnings.warn(\n"
          ]
        },
        {
          "output_type": "stream",
          "name": "stdout",
          "text": [
            "[88.28% reduction | 1032 kb -> 121 kb: ./Barra de navegaciвn/Metodologбa/R_BarraNavegecion_Metodologia.png]\n",
            "Output: 1000 w 1500 h, Input: 8334 w 12501 h\n",
            "Info: skipping, file already exists ./imagenes_recortadas/Barra de navegaciвn/Metodologбa/R_R_R_BarraNavegecion_Metodologia.png.\n",
            "Info: skipping, file already exists ./imagenes_recortadas/Barra de navegaciвn/Metodologбa/R_R_BarraNavegecion_Metodologia.png.\n"
          ]
        },
        {
          "output_type": "stream",
          "name": "stderr",
          "text": [
            "/usr/local/lib/python3.10/dist-packages/PIL/Image.py:2918: DecompressionBombWarning: Image size (100020001 pixels) exceeds limit of 89478485 pixels, could be decompression bomb DOS attack.\n",
            "  warnings.warn(\n"
          ]
        },
        {
          "output_type": "stream",
          "name": "stdout",
          "text": [
            "[90.2% reduction | 939 kb -> 92 kb: ./Barra de navegaciвn/Polбticas/R_BarraNavegacion_Politicas.png]\n",
            "Output: 1000 w 1000 h, Input: 10001 w 10001 h\n",
            "Info: skipping, file already exists ./imagenes_recortadas/Barra de navegaciвn/Polбticas/R_R_R_BarraNavegacion_Politicas.png.\n",
            "Info: skipping, file already exists ./imagenes_recortadas/Barra de navegaciвn/Polбticas/R_R_BarraNavegacion_Politicas.png.\n",
            "Info: skipping, file already exists ./imagenes_recortadas/Barra de navegaciвn/Creditos/R_R_R_BarraNavegecion_Creditos.png.\n",
            "Info: skipping, file already exists ./imagenes_recortadas/Barra de navegaciвn/Creditos/R_R_BarraNavegecion_Creditos.png.\n",
            "[71.16% reduction | 912 kb -> 263 kb: ./Barra de navegaciвn/Creditos/R_BarraNavegecion_Creditos.png]\n",
            "Output: 1000 w 2166 h, Input: 5001 w 10835 h\n",
            "Info: skipping, file already exists ./imagenes_recortadas/Barra de navegaciвn/Introducciвn/R_R_R_Migrantes_bienvenida-01-01.jpg.\n",
            "Info: skipping, file already exists ./imagenes_recortadas/Barra de navegaciвn/Introducciвn/R_R_Migrantes_bienvenida-01-01.jpg.\n",
            "Info: skipping, file already exists ./imagenes_recortadas/Barra de navegaciвn/Introducciвn/R_R_R_IR_Migrantes_bienvenida-01-01.jpg.\n",
            "Info: skipping, file already exists ./imagenes_recortadas/Barra de navegaciвn/Introducciвn/R_R_IR_Migrantes_bienvenida-01-01.jpg.\n",
            "Info: skipping, file already exists ./imagenes_recortadas/Barra de navegaciвn/Introducciвn/R_R_R_IR_IR_Migrantes_bienvenida-01-01.jpg.\n",
            "Info: skipping, file already exists ./imagenes_recortadas/Barra de navegaciвn/Introducciвn/R_R_R_IR_IR_IR_Migrantes_bienvenida-01-01.jpg.\n",
            "Info: skipping, file already exists ./imagenes_recortadas/Barra de navegaciвn/Introducciвn/R_R_IR_IR_IR_Migrantes_bienvenida-01-01.jpg.\n",
            "Info: skipping, file already exists ./imagenes_recortadas/Barra de navegaciвn/Introducciвn/R_R_IR_IR_Migrantes_bienvenida-01-01.jpg.\n",
            "Info: skipping, file already exists ./imagenes_recortadas/Barra de navegaciвn/Introducciвn/R_IR_IR_IR_Migrantes_bienvenida-01-01.jpg.\n",
            "Info: skipping, file already exists ./imagenes_recortadas/Barra de navegaciвn/Introducciвn/R_R_R_IR_IR_IR_IR_Migrantes_bienvenida-01-01.jpg.\n",
            "Info: skipping, file already exists ./imagenes_recortadas/Barra de navegaciвn/Introducciвn/R_R_R_IR_IR_IR_IR_IR_Migrantes_bienvenida-01-01.jpg.\n",
            "Info: skipping, file already exists ./imagenes_recortadas/Barra de navegaciвn/Introducciвn/R_R_IR_IR_IR_IR_Migrantes_bienvenida-01-01.jpg.\n",
            "Info: skipping, file already exists ./imagenes_recortadas/Barra de navegaciвn/Introducciвn/R_R_IR_IR_IR_IR_IR_Migrantes_bienvenida-01-01.jpg.\n",
            "Info: skipping, file already exists ./imagenes_recortadas/Barra de navegaciвn/Introducciвn/R_IR_IR_IR_IR_IR_Migrantes_bienvenida-01-01.jpg.\n",
            "[65.01% reduction | 763 kb -> 267 kb: ./imagenes_recortadas/Barra de navegaciвn/Creditos/R_R_R_R_BarraNavegecion_Creditos.png]\n",
            "Output: 1000 w 2166 h, Input: 2600 w 5634 h\n",
            "Info: skipping, file already exists ./imagenes_recortadas/Barra de navegaciвn/Introducciвn/R_IR_IR_IR_IR_Migrantes_bienvenida-01-01.jpg.\n",
            "Info: skipping, file already exists ./imagenes_recortadas/Barra de navegaciвn/Introducciвn/R_IR_IR_Migrantes_bienvenida-01-01.jpg.\n",
            "Info: skipping, file already exists ./imagenes_recortadas/Barra de navegaciвn/Introducciвn/R_IR_Migrantes_bienvenida-01-01.jpg.\n",
            "[81.68% reduction | 666 kb -> 122 kb: ./imagenes_recortadas/Barra de navegaciвn/Metodologбa/R_R_R_R_BarraNavegecion_Metodologia.png]\n",
            "Output: 1000 w 1500 h, Input: 4333 w 6500 h\n",
            "[85.21% reduction | 622 kb -> 92 kb: ./imagenes_recortadas/Barra de navegaciвn/Polбticas/R_R_R_R_BarraNavegacion_Politicas.png]\n",
            "Output: 1000 w 1000 h, Input: 5200 w 5200 h\n",
            "Info: skipping, file already exists ./imagenes_recortadas/Mвdulo 4/4B. Servicios pгblicos para familias de bajos recursos/4B1. Medicaid/4B. Requisitos para aplicar a Medicaid/R_R_u4_requisitosParaAplicar-01.png.\n",
            "Info: skipping, file already exists ./imagenes_recortadas/Mвdulo 4/4B. Servicios pгblicos para familias de bajos recursos/4B1. Medicaid/4B. Requisitos para aplicar a Medicaid/R_R_R_u4_requisitosParaAplicar-01.png.\n",
            "Info: skipping, file already exists ./imagenes_recortadas/Barra de navegaciвn/Objetivos/R_R_R_Objetivos.png.\n",
            "Info: skipping, file already exists ./imagenes_recortadas/Barra de navegaciвn/Objetivos/R_R_Objetivos.png.\n",
            "Info: skipping, file already exists ./imagenes_recortadas/Barra de navegaciвn/Introducciвn/R_R_R_Objetivos.png.\n",
            "Info: skipping, file already exists ./imagenes_recortadas/Barra de navegaciвn/Introducciвn/R_R_Objetivos.png.\n",
            "[71.0% reduction | 600 kb -> 174 kb: ./Mвdulo 4/4B. Servicios pгblicos para familias de bajos recursos/4B1. Medicaid/4B. Requisitos para aplicar a Medicaid/R_u4_requisitosParaAplicar-01.png]\n",
            "Output: 1000 w 800 h, Input: 5625 w 4500 h\n",
            "[73.17% reduction | 600 kb -> 161 kb: ./Barra de navegaciвn/Objetivos/R_Objetivos.png]\n",
            "Output: 1000 w 1331 h, Input: 5539 w 7375 h\n",
            "[73.17% reduction | 600 kb -> 161 kb: ./Barra de navegaciвn/Introducciвn/R_Objetivos.png]\n",
            "Output: 1000 w 1331 h, Input: 5539 w 7375 h\n",
            "Info: skipping, file already exists ./imagenes_recortadas/Mвdulo 4/4.0 Bienvenida/R_R_Unidad4_Introduccion.png.\n",
            "Info: skipping, file already exists ./imagenes_recortadas/Mвdulo 4/4.0 Bienvenida/R_R_R_Unidad4_Introduccion.png.\n",
            "[82.31% reduction | 571 kb -> 101 kb: ./Mвdulo 4/4.0 Bienvenida/R_Unidad4_Introduccion.png]\n",
            "Output: 1000 w 562 h, Input: 8000 w 4501 h\n",
            "[69.24% reduction | 569 kb -> 175 kb: ./imagenes_recortadas/Mвdulo 4/4B. Servicios pгblicos para familias de bajos recursos/4B1. Medicaid/4B. Requisitos para aplicar a Medicaid/R_R_R_R_u4_requisitosParaAplicar-01.png]\n",
            "Output: 1000 w 800 h, Input: 2925 w 2340 h\n",
            "[71.89% reduction | 523 kb -> 147 kb: ./Mвdulo 4/4B. Servicios pгblicos para familias de bajos recursos/4B1. Medicaid/4B. Requisitos para aplicar a Medicaid/R_u4_requisitosParaAplicartransparente-01.png]\n",
            "Output: 1000 w 800 h, Input: 5625 w 4500 h\n",
            "[68.77% reduction | 522 kb -> 163 kb: ./imagenes_recortadas/Barra de navegaciвn/Objetivos/R_R_R_R_Objetivos.png]\n",
            "Output: 1000 w 1331 h, Input: 2880 w 3835 h\n",
            "[68.77% reduction | 522 kb -> 163 kb: ./imagenes_recortadas/Barra de navegaciвn/Introducciвn/R_R_R_R_Objetivos.png]\n",
            "Output: 1000 w 1331 h, Input: 2880 w 3835 h\n",
            "Info: skipping, file already exists ./imagenes_recortadas/Mвdulo 4/4B. Servicios pгblicos para familias de bajos recursos/4B1. Medicaid/4B. Requisitos para aplicar a Medicaid/R_R_u4_requisitosParaAplicartransparente-01.png.\n",
            "Info: skipping, file already exists ./imagenes_recortadas/Mвdulo 4/4B. Servicios pгblicos para familias de bajos recursos/4B1. Medicaid/4B. Requisitos para aplicar a Medicaid/R_R_R_u4_requisitosParaAplicartransparente-01.png.\n",
            "Info: skipping, file already exists ./imagenes_recortadas/Barra de navegaciвn/Fin de curso/R_R_R_IR_IR_Fin De Curso-01.png.\n",
            "Info: skipping, file already exists ./imagenes_recortadas/Barra de navegaciвn/Fin de curso/R_R_R_IR_Fin De Curso-01.png.\n",
            "Info: skipping, file already exists ./imagenes_recortadas/Barra de navegaciвn/Fin de curso/R_R_IR_IR_Fin De Curso-01.png.\n",
            "Info: skipping, file already exists ./imagenes_recortadas/Barra de navegaciвn/Fin de curso/R_R_IR_Fin De Curso-01.png.\n",
            "Info: skipping, file already exists ./imagenes_recortadas/Barra de navegaciвn/Fin de curso/R_IR_IR_Fin De Curso-01.png.\n",
            "Info: skipping, file already exists ./imagenes_recortadas/Barra de navegaciвn/Fin de curso/R_IR_Fin De Curso-01.png.\n",
            "Info: skipping, file already exists ./imagenes_recortadas/Barra de navegaciвn/Fin de curso/R_R_R_IR_IR_IR_IR_Fin De Curso-01.png.\n",
            "Info: skipping, file already exists ./imagenes_recortadas/Barra de navegaciвn/Fin de curso/R_R_R_IR_IR_IR_Fin De Curso-01.png.\n",
            "Info: skipping, file already exists ./imagenes_recortadas/Barra de navegaciвn/Fin de curso/R_R_IR_IR_IR_IR_Fin De Curso-01.png.\n",
            "Info: skipping, file already exists ./imagenes_recortadas/Barra de navegaciвn/Fin de curso/R_R_IR_IR_IR_Fin De Curso-01.png.\n",
            "Info: skipping, file already exists ./imagenes_recortadas/Barra de navegaciвn/Fin de curso/R_IR_IR_IR_IR_Fin De Curso-01.png.\n",
            "Info: skipping, file already exists ./imagenes_recortadas/Barra de navegaciвn/Fin de curso/R_IR_IR_IR_Fin De Curso-01.png.\n",
            "Info: skipping, file already exists ./imagenes_recortadas/Barra de navegaciвn/Fin de curso/R_R_R_IR_IR_Fin De Curso_transparente-01.png.\n",
            "Info: skipping, file already exists ./imagenes_recortadas/Barra de navegaciвn/Fin de curso/R_R_R_IR_Fin De Curso_transparente-01.png.\n",
            "Info: skipping, file already exists ./imagenes_recortadas/Barra de navegaciвn/Fin de curso/R_R_IR_IR_Fin De Curso_transparente-01.png.\n",
            "Info: skipping, file already exists ./imagenes_recortadas/Barra de navegaciвn/Fin de curso/R_R_IR_Fin De Curso_transparente-01.png.\n",
            "Info: skipping, file already exists ./imagenes_recortadas/Barra de navegaciвn/Fin de curso/R_IR_IR_Fin De Curso_transparente-01.png.\n",
            "Info: skipping, file already exists ./imagenes_recortadas/Barra de navegaciвn/Fin de curso/R_IR_Fin De Curso_transparente-01.png.\n"
          ]
        }
      ]
    },
    {
      "cell_type": "markdown",
      "source": [
        "## **Exportar**"
      ],
      "metadata": {
        "id": "qQk4joVLFwA7"
      }
    },
    {
      "cell_type": "code",
      "source": [
        "# Guardar solo las versiones más ligeras de cada una de las imagenes generadas\n",
        "imagenes_proyecto.save_only_smallest_modified_files(directory_path)\n"
      ],
      "metadata": {
        "id": "uLKk3QytDFVr"
      },
      "execution_count": 206,
      "outputs": []
    },
    {
      "cell_type": "code",
      "source": [
        "# Mover todas las imagenes a una carpeta\n",
        "output_directory = \"./imagenes_recortadas\"\n",
        "imagenes_proyecto.move_generated(directory_path, output_directory, only_basename=False)"
      ],
      "metadata": {
        "colab": {
          "base_uri": "https://localhost:8080/"
        },
        "id": "LQawB6GnF4JG",
        "outputId": "0a0c90f4-0240-47fc-ec9e-932b40a7d182"
      },
      "execution_count": null,
      "outputs": [
        {
          "output_type": "stream",
          "name": "stdout",
          "text": [
            "Info: ./imagenes_recortadas/Barra de navegaciвn/Fin de curso/R_Fin De Curso-01.png is contained in ./imagenes_recortadas. Skipping.\n",
            "Info: ./imagenes_recortadas/Barra de navegaciвn/Fin de curso/R_Fin De Curso_transparente-01.png is contained in ./imagenes_recortadas. Skipping.\n",
            "Info: ./imagenes_recortadas/Barra de navegaciвn/Introducciвn/R_Objetivos.png is contained in ./imagenes_recortadas. Skipping.\n",
            "Info: ./imagenes_recortadas/Barra de navegaciвn/Creditos/R_BarraNavegecion_Creditos.png is contained in ./imagenes_recortadas. Skipping.\n",
            "Info: ./imagenes_recortadas/Barra de navegaciвn/Introducciвn/IR_Migrantes_bienvenida-01-01.jpg is contained in ./imagenes_recortadas. Skipping.\n",
            "Info: ./imagenes_recortadas/Barra de navegaciвn/Metodologбa/R_BarraNavegecion_Metodologia.png is contained in ./imagenes_recortadas. Skipping.\n",
            "Info: ./imagenes_recortadas/Barra de navegaciвn/Polбticas/R_BarraNavegacion_Politicas.png is contained in ./imagenes_recortadas. Skipping.\n",
            "Info: ./imagenes_recortadas/Mвdulo 4/4B. Servicios pгblicos para familias de bajos recursos/4B1. Medicaid/4B. Requisitos para aplicar a Medicaid/R_u4_requisitosParaAplicar-01.png is contained in ./imagenes_recortadas. Skipping.\n",
            "Info: ./imagenes_recortadas/Barra de navegaciвn/Objetivos/R_Objetivos.png is contained in ./imagenes_recortadas. Skipping.\n",
            "Info: ./imagenes_recortadas/Barra de navegaciвn/Fin de curso/IR_Fin De Curso-01.png is contained in ./imagenes_recortadas. Skipping.\n",
            "Info: ./imagenes_recortadas/Barra de navegaciвn/Fin de curso/IR_Fin De Curso_transparente-01.png is contained in ./imagenes_recortadas. Skipping.\n",
            "Info: ./imagenes_recortadas/Barra de navegaciвn/Introducciвn/IR_CVA_migrantes_finales_1-01.jpg is contained in ./imagenes_recortadas. Skipping.\n",
            "Info: ./imagenes_recortadas/Barra de navegaciвn/Introducciвn/R_IR_Migrantes_bienvenida-01-01.jpg is contained in ./imagenes_recortadas. Skipping.\n",
            "Info: ./imagenes_recortadas/Barra de navegaciвn/Introducciвn/R_Migrantes_bienvenida-01-01.jpg is contained in ./imagenes_recortadas. Skipping.\n",
            "Info: ./imagenes_recortadas/Barra de navegaciвn/Introducciвn/R_CVA_migrantes_finales_1-01.jpg is contained in ./imagenes_recortadas. Skipping.\n",
            "Info: ./imagenes_recortadas/Barra de navegaciвn/Creditos/IR_BarraNavegecion_Creditos.png is contained in ./imagenes_recortadas. Skipping.\n",
            "Info: ./imagenes_recortadas/Barra de navegaciвn/Metodologбa/IR_BarraNavegecion_Metodologia.png is contained in ./imagenes_recortadas. Skipping.\n",
            "Info: ./imagenes_recortadas/Barra de navegaciвn/Polбticas/IR_BarraNavegacion_Politicas.png is contained in ./imagenes_recortadas. Skipping.\n",
            "Info: ./imagenes_recortadas/Barra de navegaciвn/Objetivos/IR_Objetivos.png is contained in ./imagenes_recortadas. Skipping.\n",
            "Info: ./imagenes_recortadas/Barra de navegaciвn/Introducciвn/IR_Objetivos.png is contained in ./imagenes_recortadas. Skipping.\n",
            "Info: ./imagenes_recortadas/Mвdulo 4/4B. Servicios pгblicos para familias de bajos recursos/4B1. Medicaid/4B. Requisitos para aplicar a Medicaid/IR_u4_requisitosParaAplicartransparente-01.png is contained in ./imagenes_recortadas. Skipping.\n",
            "Info: ./imagenes_recortadas/Mвdulo 4/4B. Servicios pгblicos para familias de bajos recursos/4B1. Medicaid/4B. Requisitos para aplicar a Medicaid/IR_u4_requisitosParaAplicar-01.png is contained in ./imagenes_recortadas. Skipping.\n",
            "Info: ./imagenes_recortadas/Mвdulo 4/4.0 Bienvenida/IR_Unidad4_Introduccion.png is contained in ./imagenes_recortadas. Skipping.\n"
          ]
        }
      ]
    },
    {
      "cell_type": "code",
      "source": [
        "# Hacer zip para descargar\n",
        "!zip -r '/content/ilustraciones.zip' /content/IlustracionesNuevas/imagenes_recortadas\n",
        "\n",
        "# os.chdir('/content/IlustracionesNuevas')\n",
        "# print(os.listdir())\n",
        "# print(os.getcwd())"
      ],
      "metadata": {
        "id": "qTFPrFX_HMME"
      },
      "execution_count": null,
      "outputs": []
    },
    {
      "cell_type": "code",
      "source": [
        "from google.colab import files\n",
        "files.download('/content/ilustraciones.zip')"
      ],
      "metadata": {
        "id": "taEMc-7YWIGf"
      },
      "execution_count": null,
      "outputs": []
    },
    {
      "cell_type": "markdown",
      "source": [
        "# Código descartado"
      ],
      "metadata": {
        "id": "KinTashifY3N"
      }
    },
    {
      "cell_type": "code",
      "source": [
        "def reduce_image_size(input_path, output_path, target_size_kb, reduce_quality=True, reduce_dimensions=True,\n",
        "                      max_quality_reduction=0.8, max_dimension_reduction=0.8):\n",
        "    image = Image.open(input_path)\n",
        "\n",
        "    # Calculate the current size of the image in bytes\n",
        "    current_size_bytes = os.path.getsize(input_path)\n",
        "\n",
        "    while current_size_bytes > target_size_kb * 1024:\n",
        "\n",
        "      if counter >= len(dimensions):\n",
        "        print(f\"Image couldn't be reduced to size {target_size_kb} within the maximum thresholds of: {max_quality_reduction} (quality) and {max_dimension_reduction} (dimension)\")\n",
        "        break;\n",
        "      counter += 1\n",
        "      continue\n",
        "      img_copy = image.copy()\n",
        "\n",
        "      # Reduce size by diminishing quality\n",
        "      if reduce_quality:\n",
        "        img_copy.save(output_path, optimize=True, quality=quality[counter])\n",
        "        img_copy = Image.open(output_path)\n",
        "\n",
        "      # Reduce size by reducing dimensions\n",
        "      if reduce_dimensions:\n",
        "        new_width = int(image.width * dimensions[counter])\n",
        "        new_height = int(image.height * dimensions[counter])\n",
        "        resized_image = img_copy.resize((new_width, new_height), Image.ANTIALIAS)\n",
        "        resized_image.save(output_path, optimize=True)\n",
        "\n",
        "      # Calculate the new size of the image\n",
        "      current_size_bytes = os.path.getsize(output_path)\n",
        "\n",
        "      counter += 1\n",
        "      # Break the loop if both reduction methods are disabled or reached the maximum reduction limits\n",
        "      if not reduce_quality and not reduce_dimensions:\n",
        "        break\n"
      ],
      "metadata": {
        "id": "RjrtgG7mva2v"
      },
      "execution_count": null,
      "outputs": []
    },
    {
      "cell_type": "code",
      "source": [
        "# Example usage:\n",
        "input_image_path = \"BarraNavegecion_Creditos.png\"\n",
        "output_image_path = \"mod_\" + input_image_path\n",
        "target_size_kb = 500\n",
        "reduce_quality = True\n",
        "reduce_dimensions = True\n",
        "max_quality_reduction = 0.9\n",
        "max_dimension_reduction = 0.8\n",
        "\n",
        "reduce_image_size(input_image_path, output_image_path, target_size_kb, reduce_quality, reduce_dimensions,\n",
        "                  max_quality_reduction, max_dimension_reduction)"
      ],
      "metadata": {
        "colab": {
          "base_uri": "https://localhost:8080/",
          "height": 356
        },
        "id": "uGi5CQ3BvcgV",
        "outputId": "2919f134-0cc9-42c2-b78d-1b80be0894b2"
      },
      "execution_count": null,
      "outputs": [
        {
          "output_type": "error",
          "ename": "NameError",
          "evalue": "ignored",
          "traceback": [
            "\u001b[0;31m---------------------------------------------------------------------------\u001b[0m",
            "\u001b[0;31mNameError\u001b[0m                                 Traceback (most recent call last)",
            "\u001b[0;32m<ipython-input-9-14245c5020a2>\u001b[0m in \u001b[0;36m<cell line: 10>\u001b[0;34m()\u001b[0m\n\u001b[1;32m      8\u001b[0m \u001b[0mmax_dimension_reduction\u001b[0m \u001b[0;34m=\u001b[0m \u001b[0;36m0.8\u001b[0m\u001b[0;34m\u001b[0m\u001b[0;34m\u001b[0m\u001b[0m\n\u001b[1;32m      9\u001b[0m \u001b[0;34m\u001b[0m\u001b[0m\n\u001b[0;32m---> 10\u001b[0;31m reduce_image_size(input_image_path, output_image_path, target_size_kb, reduce_quality, reduce_dimensions,\n\u001b[0m\u001b[1;32m     11\u001b[0m                   max_quality_reduction, max_dimension_reduction)\n",
            "\u001b[0;32m<ipython-input-8-a5eb16eb6478>\u001b[0m in \u001b[0;36mreduce_image_size\u001b[0;34m(input_path, output_path, target_size_kb, reduce_quality, reduce_dimensions, max_quality_reduction, max_dimension_reduction)\u001b[0m\n\u001b[1;32m      1\u001b[0m def reduce_image_size(input_path, output_path, target_size_kb, reduce_quality=True, reduce_dimensions=True,\n\u001b[1;32m      2\u001b[0m                       max_quality_reduction=0.8, max_dimension_reduction=0.8):\n\u001b[0;32m----> 3\u001b[0;31m     \u001b[0mimage\u001b[0m \u001b[0;34m=\u001b[0m \u001b[0mImage\u001b[0m\u001b[0;34m.\u001b[0m\u001b[0mopen\u001b[0m\u001b[0;34m(\u001b[0m\u001b[0minput_path\u001b[0m\u001b[0;34m)\u001b[0m\u001b[0;34m\u001b[0m\u001b[0;34m\u001b[0m\u001b[0m\n\u001b[0m\u001b[1;32m      4\u001b[0m \u001b[0;34m\u001b[0m\u001b[0m\n\u001b[1;32m      5\u001b[0m     \u001b[0;31m# Calculate the current size of the image in bytes\u001b[0m\u001b[0;34m\u001b[0m\u001b[0;34m\u001b[0m\u001b[0m\n",
            "\u001b[0;31mNameError\u001b[0m: name 'Image' is not defined"
          ]
        }
      ]
    },
    {
      "cell_type": "code",
      "source": [
        "[\"y\", \"x\"] == [\"y\", \"x\"]"
      ],
      "metadata": {
        "id": "tdx4oW9cMPKo"
      },
      "execution_count": null,
      "outputs": []
    },
    {
      "cell_type": "code",
      "source": [
        "path = \"IlustracionesNuevas/Modulo1/Extras/Unidad1_hospPrivados-01-01.png\"\n",
        "path2 = 'Unidad1_hospPrivados-01-01.png'\n",
        "print(os.path.basename(path))\n",
        "print(os.path.basename(path2))"
      ],
      "metadata": {
        "colab": {
          "base_uri": "https://localhost:8080/"
        },
        "id": "AYwSVXNipgPz",
        "outputId": "9838b8d8-a149-421d-eff8-63fee48104c0"
      },
      "execution_count": 154,
      "outputs": [
        {
          "output_type": "stream",
          "name": "stdout",
          "text": [
            "Unidad1_hospPrivados-01-01.png\n",
            "Unidad1_hospPrivados-01-01.png\n"
          ]
        }
      ]
    }
  ]
}